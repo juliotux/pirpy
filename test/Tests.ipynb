{
 "cells": [
  {
   "cell_type": "markdown",
   "metadata": {},
   "source": [
    "Testing the PhotOPD package\n",
    "---------------------------"
   ]
  },
  {
   "cell_type": "code",
   "execution_count": 1,
   "metadata": {
    "collapsed": false
   },
   "outputs": [],
   "source": [
    "from photopd.photometry import WCSPhotometer\n",
    "from astropy.io import fits\n",
    "from astropy.stats import sigma_clipped_stats\n",
    "from matplotlib import pyplot as plt\n",
    "%matplotlib inline\n",
    "import numpy as np\n",
    "import glob"
   ]
  },
  {
   "cell_type": "code",
   "execution_count": 2,
   "metadata": {
    "collapsed": true
   },
   "outputs": [],
   "source": [
    "phot = WCSPhotometer('V')\n",
    "res = phot.results\n",
    "obj = phot.objects"
   ]
  },
  {
   "cell_type": "code",
   "execution_count": 3,
   "metadata": {
    "collapsed": false
   },
   "outputs": [
    {
     "name": "stderr",
     "output_type": "stream",
     "text": [
      "/usr/lib/python2.7/site-packages/astroquery/vizier/core.py:685: UserWarning: VOTABLE parsing raised exception: \n",
      "  warnings.warn(\"VOTABLE parsing raised exception: {0}\".format(ex))\n",
      "/usr/lib64/python2.7/site-packages/numpy/ma/core.py:4085: UserWarning: Warning: converting a masked element to nan.\n",
      "  warnings.warn(\"Warning: converting a masked element to nan.\")\n"
     ]
    }
   ],
   "source": [
    "obj.load_objects_from_catalog('UCAC4', 'RMC 110', '8m')\n",
    "#obj.load_objects_from_catalog('Simbad', 'RMC 40', '1m', update=['name'])"
   ]
  },
  {
   "cell_type": "code",
   "execution_count": 4,
   "metadata": {
    "collapsed": false
   },
   "outputs": [
    {
     "name": "stderr",
     "output_type": "stream",
     "text": [
      "INFO:pirpy:10 added to file_queue.\n"
     ]
    },
    {
     "name": "stdout",
     "output_type": "stream",
     "text": [
      "INFO: 10 added to file_queue. [photopd.photometry.wcs_photometer]\n"
     ]
    }
   ],
   "source": [
    "phot.clear_queue()\n",
    "files = glob.glob('/home/julio/opd_reduction/15out05/RMC110_V_001*.fits')\n",
    "phot.queue_files(files, group='15out05')"
   ]
  },
  {
   "cell_type": "code",
   "execution_count": 5,
   "metadata": {
    "collapsed": false,
    "scrolled": true
   },
   "outputs": [
    {
     "name": "stderr",
     "output_type": "stream",
     "text": [
      "INFO:pirpy:Meassuring photometry from /home/julio/opd_reduction/15out05/RMC110_V_0011.fits file.\n",
      "WARNING: FITSFixedWarning: EPOCH = '2000.0 ' / Epoca \n",
      "A floating-point value was expected. [astropy.wcs.wcs]\n",
      "WARNING:pirpy:FITSFixedWarning: EPOCH = '2000.0 ' / Epoca \n",
      "A floating-point value was expected.\n"
     ]
    },
    {
     "name": "stdout",
     "output_type": "stream",
     "text": [
      "INFO: Meassuring photometry from /home/julio/opd_reduction/15out05/RMC110_V_0011.fits file. [photopd.photometry.wcs_photometer]\n",
      "Input Image Size is 2048 by 2048\n",
      "RELATIVE ERROR computed from FWHM 0.788340398426\n",
      "Beginning convolution of image\n",
      "Finished convolution of image\n",
      "424 local maxima located above threshold\n",
      "     STAR      X      Y     FLUX     SHARP    ROUND\n",
      "(' No. of sources rejected by SHARPNESS criteria', 14)"
     ]
    },
    {
     "name": "stderr",
     "output_type": "stream",
     "text": [
      "/usr/lib64/python2.7/site-packages/scipy/integrate/quadpack.py:352: IntegrationWarning: The occurrence of roundoff error is detected, which prevents \n",
      "  the requested tolerance from being achieved.  The error may be \n",
      "  underestimated.\n",
      "  warnings.warn(msg, IntegrationWarning)\n",
      "photopd/photometry/psf_fitting.py:143: RuntimeWarning: invalid value encountered in sqrt\n",
      "  r_max = params[1]*np.sqrt(10**(4/params[2]) - 1) #I(r_max) = 10^(-4)I(0)\n"
     ]
    },
    {
     "name": "stdout",
     "output_type": "stream",
     "text": [
      "\n",
      "(' No. of sources rejected by ROUNDNESS criteria', 203)\n",
      "(' No. of sources rejected by CENTROID  criteria', 0)\n",
      "INFO"
     ]
    },
    {
     "name": "stderr",
     "output_type": "stream",
     "text": [
      "INFO:pirpy:Meassuring photometry from /home/julio/opd_reduction/15out05/RMC110_V_0013.fits file.\n"
     ]
    },
    {
     "name": "stdout",
     "output_type": "stream",
     "text": [
      ": Meassuring photometry from /home/julio/opd_reduction/15out05/RMC110_V_0013.fits file. [photopd.photometry.wcs_photometer]\n",
      "Input Image Size is 2048 by 2048\n",
      "RELATIVE ERROR computed from FWHM 0.788340398426\n",
      "Beginning convolution of image\n",
      "Finished convolution of image\n",
      "377 local maxima located above threshold\n",
      "     STAR      X      Y     FLUX     SHARP    ROUND\n",
      "(' No. of sources rejected by SHARPNESS criteria', 14)\n",
      "(' No. of sources rejected by ROUNDNESS criteria', 208)\n",
      "(' No. of sources rejected by CENTROID  criteria', 1)\n",
      "INFO"
     ]
    },
    {
     "name": "stderr",
     "output_type": "stream",
     "text": [
      "INFO:pirpy:Meassuring photometry from /home/julio/opd_reduction/15out05/RMC110_V_0015.fits file.\n"
     ]
    },
    {
     "name": "stdout",
     "output_type": "stream",
     "text": [
      ": Meassuring photometry from /home/julio/opd_reduction/15out05/RMC110_V_0015.fits file. [photopd.photometry.wcs_photometer]\n",
      "Input Image Size is 2048 by 2048\n",
      "RELATIVE ERROR computed from FWHM 0.788340398426\n",
      "Beginning convolution of image\n",
      "Finished convolution of image\n",
      "364 local maxima located above threshold\n",
      "     STAR      X      Y     FLUX     SHARP    ROUND\n",
      "(' No. of sources rejected by SHARPNESS criteria', 8)\n",
      "(' No. of sources rejected by ROUNDNESS criteria', 282)\n",
      "(' No. of sources rejected by CENTROID  criteria', 0)\n",
      "INFO"
     ]
    },
    {
     "name": "stderr",
     "output_type": "stream",
     "text": [
      "INFO:pirpy:Meassuring photometry from /home/julio/opd_reduction/15out05/RMC110_V_0012.fits file.\n"
     ]
    },
    {
     "name": "stdout",
     "output_type": "stream",
     "text": [
      ": Meassuring photometry from /home/julio/opd_reduction/15out05/RMC110_V_0012.fits file. [photopd.photometry.wcs_photometer]\n",
      "Input Image Size is 2048 by 2048\n",
      "RELATIVE ERROR computed from FWHM 0.788340398426\n",
      "Beginning convolution of image\n",
      "Finished convolution of image\n",
      "380 local maxima located above threshold\n",
      "     STAR      X      Y     FLUX     SHARP    ROUND\n",
      "(' No. of sources rejected by SHARPNESS criteria', 13)\n",
      "(' No. of sources rejected by ROUNDNESS criteria', 236)\n",
      "(' No. of sources rejected by CENTROID  criteria', 0)\n",
      "INFO"
     ]
    },
    {
     "name": "stderr",
     "output_type": "stream",
     "text": [
      "INFO:pirpy:Meassuring photometry from /home/julio/opd_reduction/15out05/RMC110_V_0014.fits file.\n"
     ]
    },
    {
     "name": "stdout",
     "output_type": "stream",
     "text": [
      ": Meassuring photometry from /home/julio/opd_reduction/15out05/RMC110_V_0014.fits file. [photopd.photometry.wcs_photometer]\n",
      "Input Image Size is 2048 by 2048\n",
      "RELATIVE ERROR computed from FWHM 0.788340398426\n",
      "Beginning convolution of image\n",
      "Finished convolution of image\n",
      "376 local maxima located above threshold\n",
      "     STAR      X      Y     FLUX     SHARP    ROUND\n",
      "(' No. of sources rejected by SHARPNESS criteria', 22)\n",
      "(' No. of sources rejected by ROUNDNESS criteria', 208)\n",
      "(' No. of sources rejected by CENTROID  criteria', 0)\n",
      "INFO"
     ]
    },
    {
     "name": "stderr",
     "output_type": "stream",
     "text": [
      "INFO:pirpy:Meassuring photometry from /home/julio/opd_reduction/15out05/RMC110_V_0016.fits file.\n"
     ]
    },
    {
     "name": "stdout",
     "output_type": "stream",
     "text": [
      ": Meassuring photometry from /home/julio/opd_reduction/15out05/RMC110_V_0016.fits file. [photopd.photometry.wcs_photometer]\n",
      "Input Image Size is 2048 by 2048\n",
      "RELATIVE ERROR computed from FWHM 0.788340398426\n",
      "Beginning convolution of image\n",
      "Finished convolution of image\n",
      "368 local maxima located above threshold\n",
      "     STAR      X      Y     FLUX     SHARP    ROUND\n",
      "(' No. of sources rejected by SHARPNESS criteria', 7)\n",
      "(' No. of sources rejected by ROUNDNESS criteria', 258)\n",
      "(' No. of sources rejected by CENTROID  criteria', 0)\n",
      "INFO"
     ]
    },
    {
     "name": "stderr",
     "output_type": "stream",
     "text": [
      "INFO:pirpy:Meassuring photometry from /home/julio/opd_reduction/15out05/RMC110_V_0018.fits file.\n"
     ]
    },
    {
     "name": "stdout",
     "output_type": "stream",
     "text": [
      ": Meassuring photometry from /home/julio/opd_reduction/15out05/RMC110_V_0018.fits file. [photopd.photometry.wcs_photometer]\n",
      "Input Image Size is 2048 by 2048\n",
      "RELATIVE ERROR computed from FWHM 0.788340398426\n",
      "Beginning convolution of image\n",
      "Finished convolution of image\n",
      "362 local maxima located above threshold\n",
      "     STAR      X      Y     FLUX     SHARP    ROUND\n",
      "(' No. of sources rejected by SHARPNESS criteria', 11)\n",
      "(' No. of sources rejected by ROUNDNESS criteria', 237)\n",
      "(' No. of sources rejected by CENTROID  criteria', 0)\n",
      "INFO"
     ]
    },
    {
     "name": "stderr",
     "output_type": "stream",
     "text": [
      "INFO:pirpy:Meassuring photometry from /home/julio/opd_reduction/15out05/RMC110_V_0010.fits file.\n"
     ]
    },
    {
     "name": "stdout",
     "output_type": "stream",
     "text": [
      ": Meassuring photometry from /home/julio/opd_reduction/15out05/RMC110_V_0010.fits file. [photopd.photometry.wcs_photometer]\n",
      "Input Image Size is 2048 by 2048\n",
      "RELATIVE ERROR computed from FWHM 0.788340398426\n",
      "Beginning convolution of image\n",
      "Finished convolution of image\n",
      "389 local maxima located above threshold\n",
      "     STAR      X      Y     FLUX     SHARP    ROUND\n",
      "(' No. of sources rejected by SHARPNESS criteria', 15)\n",
      "(' No. of sources rejected by ROUNDNESS criteria', 202)\n",
      "(' No. of sources rejected by CENTROID  criteria', 0)\n",
      "INFO"
     ]
    },
    {
     "name": "stderr",
     "output_type": "stream",
     "text": [
      "INFO:pirpy:Meassuring photometry from /home/julio/opd_reduction/15out05/RMC110_V_0017.fits file.\n"
     ]
    },
    {
     "name": "stdout",
     "output_type": "stream",
     "text": [
      ": Meassuring photometry from /home/julio/opd_reduction/15out05/RMC110_V_0017.fits file. [photopd.photometry.wcs_photometer]\n",
      "Input Image Size is 2048 by 2048\n",
      "RELATIVE ERROR computed from FWHM 0.788340398426\n",
      "Beginning convolution of image\n",
      "Finished convolution of image\n",
      "342 local maxima located above threshold\n",
      "     STAR      X      Y     FLUX     SHARP    ROUND\n",
      "(' No. of sources rejected by SHARPNESS criteria', 13)\n",
      "(' No. of sources rejected by ROUNDNESS criteria', 210)\n",
      "(' No. of sources rejected by CENTROID  criteria', 1)\n",
      "INFO"
     ]
    },
    {
     "name": "stderr",
     "output_type": "stream",
     "text": [
      "INFO:pirpy:Meassuring photometry from /home/julio/opd_reduction/15out05/RMC110_V_0019.fits file.\n"
     ]
    },
    {
     "name": "stdout",
     "output_type": "stream",
     "text": [
      ": Meassuring photometry from /home/julio/opd_reduction/15out05/RMC110_V_0019.fits file. [photopd.photometry.wcs_photometer]\n",
      "Input Image Size is 2048 by 2048\n",
      "RELATIVE ERROR computed from FWHM 0.788340398426\n",
      "Beginning convolution of image\n",
      "Finished convolution of image\n",
      "364 local maxima located above threshold\n",
      "     STAR      X      Y     FLUX     SHARP    ROUND\n",
      "(' No. of sources rejected by SHARPNESS criteria', 11)\n",
      "(' No. of sources rejected by ROUNDNESS criteria', 223)\n",
      "(' No. of sources rejected by CENTROID  criteria', 0)\n"
     ]
    }
   ],
   "source": [
    "phot.psf_photometry(fit_mode='radial', psf_model='moffat',snr=5, match_limit='1 arcsec', roundlim=[0,1], sharplim=[-1,1], xy_limits =(100, 2048, 0, 2048))"
   ]
  },
  {
   "cell_type": "code",
   "execution_count": 8,
   "metadata": {
    "collapsed": false
   },
   "outputs": [
    {
     "data": {
      "text/plain": [
       "(10.500275220101333, 0.0084041478862799963)"
      ]
     },
     "execution_count": 8,
     "metadata": {},
     "output_type": "execute_result"
    }
   ],
   "source": [
    "res.diferential_magnitude('UCAC4 105-013038', algorithm='median')"
   ]
  },
  {
   "cell_type": "code",
   "execution_count": 11,
   "metadata": {
    "collapsed": false
   },
   "outputs": [
    {
     "name": "stderr",
     "output_type": "stream",
     "text": [
      "/usr/lib64/python2.7/site-packages/numpy/lib/nanfunctions.py:675: RuntimeWarning: Mean of empty slice\n",
      "  warnings.warn(\"Mean of empty slice\", RuntimeWarning)\n"
     ]
    }
   ],
   "source": [
    "ids = obj._cat['id']\n",
    "mag_c = obj._cat['mag']\n",
    "\n",
    "mag_p = np.zeros_like(mag_c)\n",
    "\n",
    "for i in range(len(ids)):\n",
    "    mag_p[i] = res.diferential_magnitude(ids[i], algorithm='median')[0]"
   ]
  },
  {
   "cell_type": "code",
   "execution_count": 14,
   "metadata": {
    "collapsed": false
   },
   "outputs": [
    {
     "data": {
      "image/png": "[encoded data removed]",
      "text/plain": [
       "<matplotlib.figure.Figure at 0x7f9230c77150>"
      ]
     },
     "metadata": {},
     "output_type": "display_data"
    }
   ],
   "source": [
    "plt.plot(mag_c, mag_p, 'ko')\n",
    "plt.xlabel('UCAC4 magnitude')\n",
    "plt.ylabel('Pirpy PSF magnitude')\n",
    "plt.show()"
   ]
  },
  {
   "cell_type": "code",
   "execution_count": 15,
   "metadata": {
    "collapsed": false
   },
   "outputs": [
    {
     "data": {
      "image/png": "[encoded data removed]",
      "text/plain": [
       "<matplotlib.figure.Figure at 0x7f926b7a1210>"
      ]
     },
     "metadata": {},
     "output_type": "display_data"
    }
   ],
   "source": [
    "plt.plot(mag_c, mag_p-mag_c, 'ko')\n",
    "plt.xlabel('UCAC4 magnitude')\n",
    "plt.ylabel('PirpyPSF-UCAC4')\n",
    "plt.show()"
   ]
  },
  {
   "cell_type": "code",
   "execution_count": null,
   "metadata": {
    "collapsed": true
   },
   "outputs": [],
   "source": []
  }
 ],
 "metadata": {
  "kernelspec": {
   "display_name": "Python 2",
   "language": "python",
   "name": "python2"
  },
  "language_info": {
   "codemirror_mode": {
    "name": "ipython",
    "version": 2
   },
   "file_extension": ".py",
   "mimetype": "text/x-python",
   "name": "python",
   "nbconvert_exporter": "python",
   "pygments_lexer": "ipython2",
   "version": "2.7.10"
  }
 },
 "nbformat": 4,
 "nbformat_minor": 0
}
