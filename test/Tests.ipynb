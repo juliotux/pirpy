{
 "cells": [
  {
   "cell_type": "markdown",
   "metadata": {},
   "source": [
    "Testing the PhotOPD package\n",
    "---------------------------"
   ]
  },
  {
   "cell_type": "code",
   "execution_count": 1,
   "metadata": {
    "collapsed": false
   },
   "outputs": [],
   "source": [
    "import sys\n",
    "sys.path.append('../build/lib.linux-x86_64-2.7/')\n",
    "\n",
    "from pirpy.photometry import WCSPhotometer\n",
    "from astropy.io import fits\n",
    "from astropy.stats import sigma_clipped_stats\n",
    "from matplotlib import pyplot as plt\n",
    "%matplotlib inline\n",
    "import numpy as np\n",
    "import glob"
   ]
  },
  {
   "cell_type": "code",
   "execution_count": 2,
   "metadata": {
    "collapsed": true
   },
   "outputs": [],
   "source": [
    "phot = WCSPhotometer('V')\n",
    "res = phot.results\n",
    "obj = phot.objects"
   ]
  },
  {
   "cell_type": "code",
   "execution_count": 3,
   "metadata": {
    "collapsed": false
   },
   "outputs": [
    {
     "name": "stderr",
     "output_type": "stream",
     "text": [
      "/usr/lib/python2.7/site-packages/astroquery/vizier/core.py:556: UserWarning: VOTABLE parsing raised exception: \n",
      "  warnings.warn(\"VOTABLE parsing raised exception: {0}\".format(ex))\n",
      "/usr/lib64/python2.7/site-packages/numpy/ma/core.py:3900: UserWarning: Warning: converting a masked element to nan.\n",
      "  warnings.warn(\"Warning: converting a masked element to nan.\")\n"
     ]
    }
   ],
   "source": [
    "obj.load_objects_from_catalog('UCAC4', 'RMC 40', '8m')\n",
    "#obj.load_objects_from_catalog('Simbad', 'RMC 40', '1m', update=['name'])"
   ]
  },
  {
   "cell_type": "code",
   "execution_count": 4,
   "metadata": {
    "collapsed": false
   },
   "outputs": [
    {
     "name": "stderr",
     "output_type": "stream",
     "text": [
      "INFO:pirpy:32 added to file_queue.\n"
     ]
    },
    {
     "name": "stdout",
     "output_type": "stream",
     "text": [
      "INFO: 32 added to file_queue. [pirpy.photometry.wcs_photometer]\n"
     ]
    }
   ],
   "source": [
    "phot.clear_queue()\n",
    "files = glob.glob('/home/julio/opd_reduction/15out05/RMC40_V_00*.fits')\n",
    "phot.queue_files(files, group='15out05')"
   ]
  },
  {
   "cell_type": "code",
   "execution_count": 11,
   "metadata": {
    "collapsed": false,
    "scrolled": true
   },
   "outputs": [
    {
     "name": "stderr",
     "output_type": "stream",
     "text": [
      "INFO:pirpy:Meassuring photometry from /home/julio/opd_reduction/15out05/RMC40_V_0008.fits file.\n"
     ]
    },
    {
     "name": "stdout",
     "output_type": "stream",
     "text": [
      "INFO: Meassuring photometry from /home/julio/opd_reduction/15out05/RMC40_V_0008.fits file. [pirpy.photometry.wcs_photometer]\n",
      "Input Image Size is 2048 by 2048\n",
      "RELATIVE ERROR computed from FWHM 0.788340398426\n",
      "Beginning convolution of image\n",
      "Finished convolution of image\n",
      "252 local maxima located above threshold\n",
      "     STAR      X      Y     FLUX     SHARP    ROUND\n",
      "(' No. of sources rejected by SHARPNESS criteria', 5)\n",
      "(' No. of sources rejected by ROUNDNESS criteria', 23)\n",
      "(' No. of sources rejected by CENTROID  criteria', 59)\n",
      "INFO"
     ]
    },
    {
     "name": "stderr",
     "output_type": "stream",
     "text": [
      "INFO:pirpy:Meassuring photometry from /home/julio/opd_reduction/15out05/RMC40_V_0012.fits file.\n"
     ]
    },
    {
     "name": "stdout",
     "output_type": "stream",
     "text": [
      ": Meassuring photometry from /home/julio/opd_reduction/15out05/RMC40_V_0012.fits file. [pirpy.photometry.wcs_photometer]\n",
      "Input Image Size is 2048 by 2048\n",
      "RELATIVE ERROR computed from FWHM 0.788340398426\n",
      "Beginning convolution of image\n",
      "Finished convolution of image\n",
      "266 local maxima located above threshold\n",
      "     STAR      X      Y     FLUX     SHARP    ROUND\n",
      "(' No. of sources rejected by SHARPNESS criteria', 4)\n",
      "(' No. of sources rejected by ROUNDNESS criteria', 32)\n",
      "(' No. of sources rejected by CENTROID  criteria', 43)\n",
      "INFO"
     ]
    },
    {
     "name": "stderr",
     "output_type": "stream",
     "text": [
      "INFO:pirpy:Meassuring photometry from /home/julio/opd_reduction/15out05/RMC40_V_0026.fits file.\n"
     ]
    },
    {
     "name": "stdout",
     "output_type": "stream",
     "text": [
      ": Meassuring photometry from /home/julio/opd_reduction/15out05/RMC40_V_0026.fits file. [pirpy.photometry.wcs_photometer]\n",
      "Input Image Size is 2048 by 2048\n",
      "RELATIVE ERROR computed from FWHM 0.788340398426\n",
      "Beginning convolution of image\n",
      "Finished convolution of image\n",
      "265 local maxima located above threshold\n",
      "     STAR      X      Y     FLUX     SHARP    ROUND\n",
      "(' No. of sources rejected by SHARPNESS criteria', 6)\n",
      "(' No. of sources rejected by ROUNDNESS criteria', 25)\n",
      "(' No. of sources rejected by CENTROID  criteria', 56)\n",
      "INFO"
     ]
    },
    {
     "name": "stderr",
     "output_type": "stream",
     "text": [
      "INFO:pirpy:Meassuring photometry from /home/julio/opd_reduction/15out05/RMC40_V_0013.fits file.\n"
     ]
    },
    {
     "name": "stdout",
     "output_type": "stream",
     "text": [
      ": Meassuring photometry from /home/julio/opd_reduction/15out05/RMC40_V_0013.fits file. [pirpy.photometry.wcs_photometer]\n",
      "Input Image Size is 2048 by 2048\n",
      "RELATIVE ERROR computed from FWHM 0.788340398426\n",
      "Beginning convolution of image\n",
      "Finished convolution of image\n",
      "252 local maxima located above threshold\n",
      "     STAR      X      Y     FLUX     SHARP    ROUND\n",
      "(' No. of sources rejected by SHARPNESS criteria', 3)\n",
      "(' No. of sources rejected by ROUNDNESS criteria', 31)\n",
      "(' No. of sources rejected by CENTROID  criteria', 43)\n",
      "INFO"
     ]
    },
    {
     "name": "stderr",
     "output_type": "stream",
     "text": [
      "INFO:pirpy:Meassuring photometry from /home/julio/opd_reduction/15out05/RMC40_V_0009.fits file.\n"
     ]
    },
    {
     "name": "stdout",
     "output_type": "stream",
     "text": [
      ": Meassuring photometry from /home/julio/opd_reduction/15out05/RMC40_V_0009.fits file. [pirpy.photometry.wcs_photometer]\n",
      "Input Image Size is 2048 by 2048\n",
      "RELATIVE ERROR computed from FWHM 0.788340398426\n",
      "Beginning convolution of image\n",
      "Finished convolution of image\n",
      "269 local maxima located above threshold\n",
      "     STAR      X      Y     FLUX     SHARP    ROUND\n",
      "(' No. of sources rejected by SHARPNESS criteria', 1)\n",
      "(' No. of sources rejected by ROUNDNESS criteria', 43)\n",
      "(' No. of sources rejected by CENTROID  criteria', 35)\n",
      "INFO"
     ]
    },
    {
     "name": "stderr",
     "output_type": "stream",
     "text": [
      "INFO:pirpy:Meassuring photometry from /home/julio/opd_reduction/15out05/RMC40_V_0031.fits file.\n"
     ]
    },
    {
     "name": "stdout",
     "output_type": "stream",
     "text": [
      ": Meassuring photometry from /home/julio/opd_reduction/15out05/RMC40_V_0031.fits file. [pirpy.photometry.wcs_photometer]\n",
      "Input Image Size is 2048 by 2048\n",
      "RELATIVE ERROR computed from FWHM 0.788340398426\n",
      "Beginning convolution of image\n",
      "Finished convolution of image\n",
      "253 local maxima located above threshold\n",
      "     STAR      X      Y     FLUX     SHARP    ROUND\n",
      "(' No. of sources rejected by SHARPNESS criteria', 6)\n",
      "(' No. of sources rejected by ROUNDNESS criteria', 28)\n",
      "(' No. of sources rejected by CENTROID  criteria', 47)\n",
      "INFO"
     ]
    },
    {
     "name": "stderr",
     "output_type": "stream",
     "text": [
      "INFO:pirpy:Meassuring photometry from /home/julio/opd_reduction/15out05/RMC40_V_0018.fits file.\n"
     ]
    },
    {
     "name": "stdout",
     "output_type": "stream",
     "text": [
      ": Meassuring photometry from /home/julio/opd_reduction/15out05/RMC40_V_0018.fits file. [pirpy.photometry.wcs_photometer]\n",
      "Input Image Size is 2048 by 2048\n",
      "RELATIVE ERROR computed from FWHM 0.788340398426\n",
      "Beginning convolution of image\n",
      "Finished convolution of image\n",
      "254 local maxima located above threshold\n",
      "     STAR      X      Y     FLUX     SHARP    ROUND\n",
      "(' No. of sources rejected by SHARPNESS criteria', 8)\n",
      "(' No. of sources rejected by ROUNDNESS criteria', 49)\n",
      "(' No. of sources rejected by CENTROID  criteria', 47)\n",
      "INFO"
     ]
    },
    {
     "name": "stderr",
     "output_type": "stream",
     "text": [
      "INFO:pirpy:Meassuring photometry from /home/julio/opd_reduction/15out05/RMC40_V_0006.fits file.\n"
     ]
    },
    {
     "name": "stdout",
     "output_type": "stream",
     "text": [
      ": Meassuring photometry from /home/julio/opd_reduction/15out05/RMC40_V_0006.fits file. [pirpy.photometry.wcs_photometer]\n",
      "Input Image Size is 2048 by 2048\n",
      "RELATIVE ERROR computed from FWHM 0.788340398426\n",
      "Beginning convolution of image\n",
      "Finished convolution of image\n",
      "264 local maxima located above threshold\n",
      "     STAR      X      Y     FLUX     SHARP    ROUND\n",
      "(' No. of sources rejected by SHARPNESS criteria', 8)\n",
      "(' No. of sources rejected by ROUNDNESS criteria', 18)\n",
      "(' No. of sources rejected by CENTROID  criteria', 66)\n",
      "INFO"
     ]
    },
    {
     "name": "stderr",
     "output_type": "stream",
     "text": [
      "INFO:pirpy:Meassuring photometry from /home/julio/opd_reduction/15out05/RMC40_V_0020.fits file.\n"
     ]
    },
    {
     "name": "stdout",
     "output_type": "stream",
     "text": [
      ": Meassuring photometry from /home/julio/opd_reduction/15out05/RMC40_V_0020.fits file. [pirpy.photometry.wcs_photometer]\n",
      "Input Image Size is 2048 by 2048\n",
      "RELATIVE ERROR computed from FWHM 0.788340398426\n",
      "Beginning convolution of image\n",
      "Finished convolution of image\n",
      "256 local maxima located above threshold\n",
      "     STAR      X      Y     FLUX     SHARP    ROUND\n",
      "(' No. of sources rejected by SHARPNESS criteria', 9)\n",
      "(' No. of sources rejected by ROUNDNESS criteria', 22)\n",
      "(' No. of sources rejected by CENTROID  criteria', 36)\n",
      "INFO"
     ]
    },
    {
     "name": "stderr",
     "output_type": "stream",
     "text": [
      "INFO:pirpy:Meassuring photometry from /home/julio/opd_reduction/15out05/RMC40_V_0003.fits file.\n"
     ]
    },
    {
     "name": "stdout",
     "output_type": "stream",
     "text": [
      ": Meassuring photometry from /home/julio/opd_reduction/15out05/RMC40_V_0003.fits file. [pirpy.photometry.wcs_photometer]\n",
      "Input Image Size is 2048 by 2048\n",
      "RELATIVE ERROR computed from FWHM 0.788340398426\n",
      "Beginning convolution of image\n",
      "Finished convolution of image\n",
      "253 local maxima located above threshold\n",
      "     STAR      X      Y     FLUX     SHARP    ROUND\n",
      "(' No. of sources rejected by SHARPNESS criteria', 6)\n",
      "(' No. of sources rejected by ROUNDNESS criteria', 31)\n",
      "(' No. of sources rejected by CENTROID  criteria', 41)\n",
      "INFO"
     ]
    },
    {
     "name": "stderr",
     "output_type": "stream",
     "text": [
      "INFO:pirpy:Meassuring photometry from /home/julio/opd_reduction/15out05/RMC40_V_0010.fits file.\n"
     ]
    },
    {
     "name": "stdout",
     "output_type": "stream",
     "text": [
      ": Meassuring photometry from /home/julio/opd_reduction/15out05/RMC40_V_0010.fits file. [pirpy.photometry.wcs_photometer]\n",
      "Input Image Size is 2048 by 2048\n",
      "RELATIVE ERROR computed from FWHM 0.788340398426\n",
      "Beginning convolution of image\n",
      "Finished convolution of image\n",
      "271 local maxima located above threshold\n",
      "     STAR      X      Y     FLUX     SHARP    ROUND\n",
      "(' No. of sources rejected by SHARPNESS criteria', 4)\n",
      "(' No. of sources rejected by ROUNDNESS criteria', 26)\n",
      "(' No. of sources rejected by CENTROID  criteria', 52)\n",
      "INFO"
     ]
    },
    {
     "name": "stderr",
     "output_type": "stream",
     "text": [
      "INFO:pirpy:Meassuring photometry from /home/julio/opd_reduction/15out05/RMC40_V_0014.fits file.\n"
     ]
    },
    {
     "name": "stdout",
     "output_type": "stream",
     "text": [
      ": Meassuring photometry from /home/julio/opd_reduction/15out05/RMC40_V_0014.fits file. [pirpy.photometry.wcs_photometer]\n",
      "Input Image Size is 2048 by 2048\n",
      "RELATIVE ERROR computed from FWHM 0.788340398426\n",
      "Beginning convolution of image\n",
      "Finished convolution of image\n",
      "250 local maxima located above threshold\n",
      "     STAR      X      Y     FLUX     SHARP    ROUND\n",
      "(' No. of sources rejected by SHARPNESS criteria', 7)\n",
      "(' No. of sources rejected by ROUNDNESS criteria', 27)\n",
      "(' No. of sources rejected by CENTROID  criteria', 56)\n",
      "INFO"
     ]
    },
    {
     "name": "stderr",
     "output_type": "stream",
     "text": [
      "INFO:pirpy:Meassuring photometry from /home/julio/opd_reduction/15out05/RMC40_V_0016.fits file.\n"
     ]
    },
    {
     "name": "stdout",
     "output_type": "stream",
     "text": [
      ": Meassuring photometry from /home/julio/opd_reduction/15out05/RMC40_V_0016.fits file. [pirpy.photometry.wcs_photometer]\n",
      "Input Image Size is 2048 by 2048\n",
      "RELATIVE ERROR computed from FWHM 0.788340398426\n",
      "Beginning convolution of image\n",
      "Finished convolution of image\n",
      "264 local maxima located above threshold\n",
      "     STAR      X      Y     FLUX     SHARP    ROUND\n",
      "(' No. of sources rejected by SHARPNESS criteria', 5)\n",
      "(' No. of sources rejected by ROUNDNESS criteria', 31)\n",
      "(' No. of sources rejected by CENTROID  criteria', 49)\n",
      "INFO"
     ]
    },
    {
     "name": "stderr",
     "output_type": "stream",
     "text": [
      "INFO:pirpy:Meassuring photometry from /home/julio/opd_reduction/15out05/RMC40_V_0002.fits file.\n"
     ]
    },
    {
     "name": "stdout",
     "output_type": "stream",
     "text": [
      ": Meassuring photometry from /home/julio/opd_reduction/15out05/RMC40_V_0002.fits file. [pirpy.photometry.wcs_photometer]\n",
      "Input Image Size is 2048 by 2048\n",
      "RELATIVE ERROR computed from FWHM 0.788340398426\n",
      "Beginning convolution of image\n",
      "Finished convolution of image\n",
      "249 local maxima located above threshold\n",
      "     STAR      X      Y     FLUX     SHARP    ROUND\n",
      "(' No. of sources rejected by SHARPNESS criteria', 6)\n",
      "(' No. of sources rejected by ROUNDNESS criteria', 40)\n",
      "(' No. of sources rejected by CENTROID  criteria', 44)\n",
      "INFO"
     ]
    },
    {
     "name": "stderr",
     "output_type": "stream",
     "text": [
      "INFO:pirpy:Meassuring photometry from /home/julio/opd_reduction/15out05/RMC40_V_0001.fits file.\n"
     ]
    },
    {
     "name": "stdout",
     "output_type": "stream",
     "text": [
      ": Meassuring photometry from /home/julio/opd_reduction/15out05/RMC40_V_0001.fits file. [pirpy.photometry.wcs_photometer]\n",
      "Input Image Size is 2048 by 2048\n",
      "RELATIVE ERROR computed from FWHM 0.788340398426\n",
      "Beginning convolution of image\n",
      "Finished convolution of image\n",
      "228 local maxima located above threshold\n",
      "     STAR      X      Y     FLUX     SHARP    ROUND\n",
      "(' No. of sources rejected by SHARPNESS criteria', 14)\n",
      "(' No. of sources rejected by ROUNDNESS criteria', 33)\n",
      "(' No. of sources rejected by CENTROID  criteria', 56)\n",
      "INFO"
     ]
    },
    {
     "name": "stderr",
     "output_type": "stream",
     "text": [
      "INFO:pirpy:Meassuring photometry from /home/julio/opd_reduction/15out05/RMC40_V_0024.fits file.\n"
     ]
    },
    {
     "name": "stdout",
     "output_type": "stream",
     "text": [
      ": Meassuring photometry from /home/julio/opd_reduction/15out05/RMC40_V_0024.fits file. [pirpy.photometry.wcs_photometer]\n",
      "Input Image Size is 2048 by 2048\n",
      "RELATIVE ERROR computed from FWHM 0.788340398426\n",
      "Beginning convolution of image\n",
      "Finished convolution of image\n",
      "291 local maxima located above threshold\n",
      "     STAR      X      Y     FLUX     SHARP    ROUND\n",
      "(' No. of sources rejected by SHARPNESS criteria', 7)\n",
      "(' No. of sources rejected by ROUNDNESS criteria', 18)\n",
      "(' No. of sources rejected by CENTROID  criteria', 80)\n",
      "INFO"
     ]
    },
    {
     "name": "stderr",
     "output_type": "stream",
     "text": [
      "INFO:pirpy:Meassuring photometry from /home/julio/opd_reduction/15out05/RMC40_V_0000.fits file.\n"
     ]
    },
    {
     "name": "stdout",
     "output_type": "stream",
     "text": [
      ": Meassuring photometry from /home/julio/opd_reduction/15out05/RMC40_V_0000.fits file. [pirpy.photometry.wcs_photometer]\n",
      "Input Image Size is 2048 by 2048\n",
      "RELATIVE ERROR computed from FWHM 0.788340398426\n",
      "Beginning convolution of image\n",
      "Finished convolution of image\n",
      "219 local maxima located above threshold\n",
      "     STAR      X      Y     FLUX     SHARP    ROUND\n",
      "(' No. of sources rejected by SHARPNESS criteria', 14)\n",
      "(' No. of sources rejected by ROUNDNESS criteria', 48)\n",
      "(' No. of sources rejected by CENTROID  criteria', 61)\n",
      "INFO"
     ]
    },
    {
     "name": "stderr",
     "output_type": "stream",
     "text": [
      "INFO:pirpy:Meassuring photometry from /home/julio/opd_reduction/15out05/RMC40_V_0004.fits file.\n"
     ]
    },
    {
     "name": "stdout",
     "output_type": "stream",
     "text": [
      ": Meassuring photometry from /home/julio/opd_reduction/15out05/RMC40_V_0004.fits file. [pirpy.photometry.wcs_photometer]\n",
      "Input Image Size is 2048 by 2048\n",
      "RELATIVE ERROR computed from FWHM 0.788340398426\n",
      "Beginning convolution of image\n",
      "Finished convolution of image\n",
      "246 local maxima located above threshold\n",
      "     STAR      X      Y     FLUX     SHARP    ROUND\n",
      "(' No. of sources rejected by SHARPNESS criteria', 16)\n",
      "(' No. of sources rejected by ROUNDNESS criteria', 38)\n",
      "(' No. of sources rejected by CENTROID  criteria', 36)\n",
      "INFO"
     ]
    },
    {
     "name": "stderr",
     "output_type": "stream",
     "text": [
      "INFO:pirpy:Meassuring photometry from /home/julio/opd_reduction/15out05/RMC40_V_0021.fits file.\n"
     ]
    },
    {
     "name": "stdout",
     "output_type": "stream",
     "text": [
      ": Meassuring photometry from /home/julio/opd_reduction/15out05/RMC40_V_0021.fits file. [pirpy.photometry.wcs_photometer]\n",
      "Input Image Size is 2048 by 2048\n",
      "RELATIVE ERROR computed from FWHM 0.788340398426\n",
      "Beginning convolution of image\n",
      "Finished convolution of image\n",
      "264 local maxima located above threshold\n",
      "     STAR      X      Y     FLUX     SHARP    ROUND\n",
      "(' No. of sources rejected by SHARPNESS criteria', 4)\n",
      "(' No. of sources rejected by ROUNDNESS criteria', 32)\n",
      "(' No. of sources rejected by CENTROID  criteria', 46)\n",
      "INFO"
     ]
    },
    {
     "name": "stderr",
     "output_type": "stream",
     "text": [
      "INFO:pirpy:Meassuring photometry from /home/julio/opd_reduction/15out05/RMC40_V_0015.fits file.\n"
     ]
    },
    {
     "name": "stdout",
     "output_type": "stream",
     "text": [
      ": Meassuring photometry from /home/julio/opd_reduction/15out05/RMC40_V_0015.fits file. [pirpy.photometry.wcs_photometer]\n",
      "Input Image Size is 2048 by 2048\n",
      "RELATIVE ERROR computed from FWHM 0.788340398426\n",
      "Beginning convolution of image\n",
      "Finished convolution of image\n",
      "261 local maxima located above threshold\n",
      "     STAR      X      Y     FLUX     SHARP    ROUND\n",
      "(' No. of sources rejected by SHARPNESS criteria', 10)\n",
      "(' No. of sources rejected by ROUNDNESS criteria', 30)\n",
      "(' No. of sources rejected by CENTROID  criteria', 58)\n",
      "INFO"
     ]
    },
    {
     "name": "stderr",
     "output_type": "stream",
     "text": [
      "INFO:pirpy:Meassuring photometry from /home/julio/opd_reduction/15out05/RMC40_V_0027.fits file.\n"
     ]
    },
    {
     "name": "stdout",
     "output_type": "stream",
     "text": [
      ": Meassuring photometry from /home/julio/opd_reduction/15out05/RMC40_V_0027.fits file. [pirpy.photometry.wcs_photometer]\n",
      "Input Image Size is 2048 by 2048\n",
      "RELATIVE ERROR computed from FWHM 0.788340398426\n",
      "Beginning convolution of image\n",
      "Finished convolution of image\n",
      "249 local maxima located above threshold\n",
      "     STAR      X      Y     FLUX     SHARP    ROUND\n",
      "(' No. of sources rejected by SHARPNESS criteria', 7)\n",
      "(' No. of sources rejected by ROUNDNESS criteria', 34)\n",
      "(' No. of sources rejected by CENTROID  criteria', 63)\n",
      "INFO"
     ]
    },
    {
     "name": "stderr",
     "output_type": "stream",
     "text": [
      "INFO:pirpy:Meassuring photometry from /home/julio/opd_reduction/15out05/RMC40_V_0019.fits file.\n"
     ]
    },
    {
     "name": "stdout",
     "output_type": "stream",
     "text": [
      ": Meassuring photometry from /home/julio/opd_reduction/15out05/RMC40_V_0019.fits file. [pirpy.photometry.wcs_photometer]\n",
      "Input Image Size is 2048 by 2048\n",
      "RELATIVE ERROR computed from FWHM 0.788340398426\n",
      "Beginning convolution of image\n",
      "Finished convolution of image\n",
      "236 local maxima located above threshold\n",
      "     STAR      X      Y     FLUX     SHARP    ROUND\n",
      "(' No. of sources rejected by SHARPNESS criteria', 8)\n",
      "(' No. of sources rejected by ROUNDNESS criteria', 36)\n",
      "(' No. of sources rejected by CENTROID  criteria', 31)\n",
      "INFO"
     ]
    },
    {
     "name": "stderr",
     "output_type": "stream",
     "text": [
      "INFO:pirpy:Meassuring photometry from /home/julio/opd_reduction/15out05/RMC40_V_0029.fits file.\n"
     ]
    },
    {
     "name": "stdout",
     "output_type": "stream",
     "text": [
      ": Meassuring photometry from /home/julio/opd_reduction/15out05/RMC40_V_0029.fits file. [pirpy.photometry.wcs_photometer]\n",
      "Input Image Size is 2048 by 2048\n",
      "RELATIVE ERROR computed from FWHM 0.788340398426\n",
      "Beginning convolution of image\n",
      "Finished convolution of image\n",
      "276 local maxima located above threshold\n",
      "     STAR      X      Y     FLUX     SHARP    ROUND\n",
      "(' No. of sources rejected by SHARPNESS criteria', 6)\n",
      "(' No. of sources rejected by ROUNDNESS criteria', 39)\n",
      "(' No. of sources rejected by CENTROID  criteria', 60)\n",
      "INFO"
     ]
    },
    {
     "name": "stderr",
     "output_type": "stream",
     "text": [
      "INFO:pirpy:Meassuring photometry from /home/julio/opd_reduction/15out05/RMC40_V_0017.fits file.\n"
     ]
    },
    {
     "name": "stdout",
     "output_type": "stream",
     "text": [
      ": Meassuring photometry from /home/julio/opd_reduction/15out05/RMC40_V_0017.fits file. [pirpy.photometry.wcs_photometer]\n",
      "Input Image Size is 2048 by 2048\n",
      "RELATIVE ERROR computed from FWHM 0.788340398426\n",
      "Beginning convolution of image\n",
      "Finished convolution of image\n",
      "267 local maxima located above threshold\n",
      "     STAR      X      Y     FLUX     SHARP    ROUND\n",
      "(' No. of sources rejected by SHARPNESS criteria', 9)\n",
      "(' No. of sources rejected by ROUNDNESS criteria', 40)\n",
      "(' No. of sources rejected by CENTROID  criteria', 50)\n",
      "INFO"
     ]
    },
    {
     "name": "stderr",
     "output_type": "stream",
     "text": [
      "INFO:pirpy:Meassuring photometry from /home/julio/opd_reduction/15out05/RMC40_V_0030.fits file.\n"
     ]
    },
    {
     "name": "stdout",
     "output_type": "stream",
     "text": [
      ": Meassuring photometry from /home/julio/opd_reduction/15out05/RMC40_V_0030.fits file. [pirpy.photometry.wcs_photometer]\n",
      "Input Image Size is 2048 by 2048\n",
      "RELATIVE ERROR computed from FWHM 0.788340398426\n",
      "Beginning convolution of image\n",
      "Finished convolution of image\n",
      "272 local maxima located above threshold\n",
      "     STAR      X      Y     FLUX     SHARP    ROUND\n",
      "(' No. of sources rejected by SHARPNESS criteria', 2)\n",
      "(' No. of sources rejected by ROUNDNESS criteria', 28)\n",
      "(' No. of sources rejected by CENTROID  criteria', 36)\n",
      "INFO"
     ]
    },
    {
     "name": "stderr",
     "output_type": "stream",
     "text": [
      "INFO:pirpy:Meassuring photometry from /home/julio/opd_reduction/15out05/RMC40_V_0025.fits file.\n"
     ]
    },
    {
     "name": "stdout",
     "output_type": "stream",
     "text": [
      ": Meassuring photometry from /home/julio/opd_reduction/15out05/RMC40_V_0025.fits file. [pirpy.photometry.wcs_photometer]\n",
      "Input Image Size is 2048 by 2048\n",
      "RELATIVE ERROR computed from FWHM 0.788340398426\n",
      "Beginning convolution of image\n",
      "Finished convolution of image\n",
      "259 local maxima located above threshold\n",
      "     STAR      X      Y     FLUX     SHARP    ROUND\n",
      "(' No. of sources rejected by SHARPNESS criteria', 7)\n",
      "(' No. of sources rejected by ROUNDNESS criteria', 25)\n",
      "(' No. of sources rejected by CENTROID  criteria', 45)\n",
      "INFO"
     ]
    },
    {
     "name": "stderr",
     "output_type": "stream",
     "text": [
      "INFO:pirpy:Meassuring photometry from /home/julio/opd_reduction/15out05/RMC40_V_0007.fits file.\n"
     ]
    },
    {
     "name": "stdout",
     "output_type": "stream",
     "text": [
      ": Meassuring photometry from /home/julio/opd_reduction/15out05/RMC40_V_0007.fits file. [pirpy.photometry.wcs_photometer]\n",
      "Input Image Size is 2048 by 2048\n",
      "RELATIVE ERROR computed from FWHM 0.788340398426\n",
      "Beginning convolution of image\n",
      "Finished convolution of image\n",
      "265 local maxima located above threshold\n",
      "     STAR      X      Y     FLUX     SHARP    ROUND\n",
      "(' No. of sources rejected by SHARPNESS criteria', 7)\n",
      "(' No. of sources rejected by ROUNDNESS criteria', 25)\n",
      "(' No. of sources rejected by CENTROID  criteria', 70)\n",
      "INFO"
     ]
    },
    {
     "name": "stderr",
     "output_type": "stream",
     "text": [
      "INFO:pirpy:Meassuring photometry from /home/julio/opd_reduction/15out05/RMC40_V_0022.fits file.\n"
     ]
    },
    {
     "name": "stdout",
     "output_type": "stream",
     "text": [
      ": Meassuring photometry from /home/julio/opd_reduction/15out05/RMC40_V_0022.fits file. [pirpy.photometry.wcs_photometer]\n",
      "Input Image Size is 2048 by 2048\n",
      "RELATIVE ERROR computed from FWHM 0.788340398426\n",
      "Beginning convolution of image\n",
      "Finished convolution of image\n",
      "270 local maxima located above threshold\n",
      "     STAR      X      Y     FLUX     SHARP    ROUND\n",
      "(' No. of sources rejected by SHARPNESS criteria', 10)\n",
      "(' No. of sources rejected by ROUNDNESS criteria', 25)\n",
      "(' No. of sources rejected by CENTROID  criteria', 52)\n",
      "INFO"
     ]
    },
    {
     "name": "stderr",
     "output_type": "stream",
     "text": [
      "INFO:pirpy:Meassuring photometry from /home/julio/opd_reduction/15out05/RMC40_V_0028.fits file.\n"
     ]
    },
    {
     "name": "stdout",
     "output_type": "stream",
     "text": [
      ": Meassuring photometry from /home/julio/opd_reduction/15out05/RMC40_V_0028.fits file. [pirpy.photometry.wcs_photometer]\n",
      "Input Image Size is 2048 by 2048\n",
      "RELATIVE ERROR computed from FWHM 0.788340398426\n",
      "Beginning convolution of image\n",
      "Finished convolution of image\n",
      "257 local maxima located above threshold\n",
      "     STAR      X      Y     FLUX     SHARP    ROUND\n",
      "(' No. of sources rejected by SHARPNESS criteria', 6)\n",
      "(' No. of sources rejected by ROUNDNESS criteria', 30)\n",
      "(' No. of sources rejected by CENTROID  criteria', 62)\n",
      "INFO"
     ]
    },
    {
     "name": "stderr",
     "output_type": "stream",
     "text": [
      "INFO:pirpy:Meassuring photometry from /home/julio/opd_reduction/15out05/RMC40_V_0005.fits file.\n"
     ]
    },
    {
     "name": "stdout",
     "output_type": "stream",
     "text": [
      ": Meassuring photometry from /home/julio/opd_reduction/15out05/RMC40_V_0005.fits file. [pirpy.photometry.wcs_photometer]\n",
      "Input Image Size is 2048 by 2048\n",
      "RELATIVE ERROR computed from FWHM 0.788340398426\n",
      "Beginning convolution of image\n",
      "Finished convolution of image\n",
      "263 local maxima located above threshold\n",
      "     STAR      X      Y     FLUX     SHARP    ROUND\n",
      "(' No. of sources rejected by SHARPNESS criteria', 11)\n",
      "(' No. of sources rejected by ROUNDNESS criteria', 29)\n",
      "(' No. of sources rejected by CENTROID  criteria', 59)\n",
      "INFO"
     ]
    },
    {
     "name": "stderr",
     "output_type": "stream",
     "text": [
      "INFO:pirpy:Meassuring photometry from /home/julio/opd_reduction/15out05/RMC40_V_0011.fits file.\n"
     ]
    },
    {
     "name": "stdout",
     "output_type": "stream",
     "text": [
      ": Meassuring photometry from /home/julio/opd_reduction/15out05/RMC40_V_0011.fits file. [pirpy.photometry.wcs_photometer]\n",
      "Input Image Size is 2048 by 2048\n",
      "RELATIVE ERROR computed from FWHM 0.788340398426\n",
      "Beginning convolution of image\n",
      "Finished convolution of image\n",
      "279 local maxima located above threshold\n",
      "     STAR      X      Y     FLUX     SHARP    ROUND\n",
      "(' No. of sources rejected by SHARPNESS criteria', 6)\n",
      "(' No. of sources rejected by ROUNDNESS criteria', 13)\n",
      "(' No. of sources rejected by CENTROID  criteria', 56)\n",
      "INFO"
     ]
    },
    {
     "name": "stderr",
     "output_type": "stream",
     "text": [
      "INFO:pirpy:Meassuring photometry from /home/julio/opd_reduction/15out05/RMC40_V_0023.fits file.\n"
     ]
    },
    {
     "name": "stdout",
     "output_type": "stream",
     "text": [
      ": Meassuring photometry from /home/julio/opd_reduction/15out05/RMC40_V_0023.fits file. [pirpy.photometry.wcs_photometer]\n",
      "Input Image Size is 2048 by 2048\n",
      "RELATIVE ERROR computed from FWHM 0.788340398426\n",
      "Beginning convolution of image\n",
      "Finished convolution of image\n",
      "263 local maxima located above threshold\n",
      "     STAR      X      Y     FLUX     SHARP    ROUND\n",
      "(' No. of sources rejected by SHARPNESS criteria', 9)\n",
      "(' No. of sources rejected by ROUNDNESS criteria', 45)\n",
      "(' No. of sources rejected by CENTROID  criteria', 31)\n"
     ]
    }
   ],
   "source": [
    "phot.psf_photometry(fit_mode='spatial', psf_model='moffat',snr=5, match_limit='1 arcsec', roundlim=[-5,5], sharplim=[-2,2],\n",
    "                    box_size=35,\n",
    "                    xy_limits =(100, 2048, 0, 2048), sky_method='mean')"
   ]
  },
  {
   "cell_type": "code",
   "execution_count": 12,
   "metadata": {
    "collapsed": false
   },
   "outputs": [
    {
     "name": "stdout",
     "output_type": "stream",
     "text": [
      "[('UCAC4 088-004410', nan, nan, nan, nan)\n",
      " ('UCAC4 089-004309', nan, nan, nan, nan)\n",
      " ('UCAC4 088-004322', nan, nan, nan, nan)\n",
      " ('UCAC4 088-004294', nan, nan, nan, nan)\n",
      " ('UCAC4 088-004282', nan, nan, nan, nan)\n",
      " ('uid0', 945.4832763671875, 517.0044555664062, 2733.7216470865574, nan)\n",
      " ('uid1', nan, nan, nan, nan) ('UCAC4 088-004268', nan, nan, nan, nan)\n",
      " ('UCAC4 088-004265', nan, nan, nan, nan)\n",
      " ('UCAC4 088-004261', nan, nan, nan, nan)\n",
      " ('UCAC4 088-004250', 891.7186279296875, 1076.836669921875, 24148.56878030737, nan)\n",
      " ('uid2', 1303.0802001953125, 1098.7115478515625, 1477.6054005581282, nan)\n",
      " ('uid3', nan, nan, nan, nan) ('uid4', nan, nan, nan, nan)\n",
      " ('UCAC4 088-004217', 1396.278076171875, 1195.7906494140625, 15361.780784949673, nan)\n",
      " ('UCAC4 088-004212', nan, nan, nan, nan)\n",
      " ('UCAC4 088-004157', nan, nan, nan, nan)\n",
      " ('uid64', 623.370361328125, 1644.626708984375, -2007.776948105022, nan)\n",
      " ('UCAC4 088-004102', nan, nan, nan, nan)\n",
      " ('UCAC4 088-004082', nan, nan, nan, nan)]\n",
      "[('uid488', nan, nan, nan, nan)\n",
      " ('uid151', 403.8872985839844, 376.139892578125, -38122.65031678957, nan)\n",
      " ('UCAC4 088-004345', 1244.93603515625, 558.51513671875, 29151.203535072244, nan)\n",
      " ('UCAC4 089-004309', nan, nan, nan, nan) ('uid152', nan, nan, nan, nan)\n",
      " ('UCAC4 088-004322', nan, nan, nan, nan)\n",
      " ('UCAC4 088-004294', nan, nan, nan, nan)\n",
      " ('UCAC4 088-004282', nan, nan, nan, nan)\n",
      " ('UCAC4 088-004268', 983.5579833984375, 1003.6878051757812, 1121522.2941110393, nan)\n",
      " ('UCAC4 088-004265', 1498.4886474609375, 1012.5372924804688, 24919.060782305416, nan)\n",
      " ('UCAC4 088-004261', nan, nan, nan, nan)\n",
      " ('UCAC4 088-004250', 891.1348876953125, 1076.657958984375, 24791.68915057733, nan)\n",
      " ('uid3', nan, nan, nan, nan) ('uid4', nan, nan, nan, nan)\n",
      " ('UCAC4 088-004212', nan, nan, nan, nan)\n",
      " ('UCAC4 088-004157', nan, nan, nan, nan)\n",
      " ('UCAC4 088-004102', nan, nan, nan, nan)\n",
      " ('UCAC4 088-004082', nan, nan, nan, nan)]\n",
      "[('uid488', nan, nan, nan, nan) ('uid247', nan, nan, nan, nan)\n",
      " ('uid568', nan, nan, nan, nan) ('uid569', nan, nan, nan, nan)\n",
      " ('UCAC4 088-004294', nan, nan, nan, nan) ('uid248', nan, nan, nan, nan)\n",
      " ('UCAC4 088-004282', 1267.112060546875, 928.5601806640625, 25198.86489096639, nan)\n",
      " ('uid249', 1799.1361083984375, 972.48828125, -2362115.098403231, nan)\n",
      " ('UCAC4 088-004268', 984.7152099609375, 1000.791748046875, 1213609.9777198525, nan)\n",
      " ('UCAC4 088-004265', nan, nan, nan, nan)\n",
      " ('UCAC4 088-004261', nan, nan, nan, nan) ('uid3', nan, nan, nan, nan)\n",
      " ('UCAC4 088-004222', nan, nan, nan, nan)\n",
      " ('UCAC4 088-004212', nan, nan, nan, nan)\n",
      " ('UCAC4 088-004157', nan, nan, nan, nan)\n",
      " ('UCAC4 088-004102', 1038.06591796875, 1862.077880859375, 37819.54194304496, nan)\n",
      " ('uid342', 1607.4327392578125, 1957.834716796875, -49.89631671771831, nan)\n",
      " ('UCAC4 088-004082', nan, nan, nan, nan)]\n",
      "[('uid362', 764.4268188476562, 122.9848861694336, -662.021060796317, nan)\n",
      " ('UCAC4 088-004410', nan, nan, nan, nan)\n",
      " ('UCAC4 089-004309', nan, nan, nan, nan)\n",
      " ('uid363', 1084.4005126953125, -36.86022186279297, 1.5959053414697904, nan)\n",
      " ('UCAC4 088-004322', nan, nan, nan, nan)\n",
      " ('UCAC4 088-004294', nan, nan, nan, nan)\n",
      " ('UCAC4 088-004282', 1266.0352783203125, 929.5126953125, 81462.49790178526, nan)\n",
      " ('UCAC4 088-004268', 983.5531616210938, 1001.8349609375, 1737126.8520984892, nan)\n",
      " ('UCAC4 088-004265', 1498.6199951171875, 1010.6795043945312, 80850.53654243544, nan)\n",
      " ('UCAC4 088-004261', nan, nan, nan, nan)\n",
      " ('uid364', 1497.4754638671875, 1012.1495971679688, 104015.39875458553, nan)\n",
      " ('uid3', nan, nan, nan, nan) ('uid4', nan, nan, nan, nan)\n",
      " ('UCAC4 088-004217', 1395.6087646484375, 1193.5433349609375, 16555.48147392596, nan)\n",
      " ('UCAC4 088-004212', nan, nan, nan, nan)\n",
      " ('UCAC4 088-004157', nan, nan, nan, nan)\n",
      " ('UCAC4 088-004102', 1036.7882080078125, 1863.2314453125, 97910.39942284518, nan)\n",
      " ('UCAC4 088-004082', nan, nan, nan, nan)]\n",
      "[('UCAC4 088-004410', nan, nan, nan, nan) ('uid568', nan, nan, nan, nan)\n",
      " ('uid569', nan, nan, nan, nan) ('uid570', nan, nan, nan, nan)\n",
      " ('UCAC4 088-004294', nan, nan, nan, nan)\n",
      " ('UCAC4 088-004268', 982.0974731445312, 1000.3484497070312, 1197371.6185646947, nan)\n",
      " ('UCAC4 088-004261', nan, nan, nan, nan) ('uid3', nan, nan, nan, nan)\n",
      " ('uid4', nan, nan, nan, nan) ('UCAC4 088-004212', nan, nan, nan, nan)\n",
      " ('uid580', 435.0766906738281, 1440.5501708984375, 366.9297186584858, nan)\n",
      " ('UCAC4 088-004157', nan, nan, nan, nan)\n",
      " ('UCAC4 088-004082', nan, nan, nan, nan)]\n",
      "[ ('UCAC4 088-004434', 734.6432495117188, 22.75790023803711, 11032.054239293542, nan)\n",
      " ('UCAC4 089-004400', 1841.7235107421875, 40.4088134765625, 16185.37706210333, nan)\n",
      " ('uid662', nan, nan, nan, nan) ('uid488', nan, nan, nan, nan)\n",
      " ('UCAC4 088-004405', 578.808349609375, 200.6109619140625, 12042.282672346402, nan)\n",
      " ('UCAC4 088-004345', 1244.21728515625, 556.9404907226562, 24826.501309635954, nan)\n",
      " ('UCAC4 089-004309', nan, nan, nan, nan)\n",
      " ('UCAC4 088-004342', 1412.211669921875, 576.37841796875, 19806.990073298926, nan)\n",
      " ('UCAC4 088-004322', nan, nan, nan, nan) ('uid663', nan, nan, nan, nan)\n",
      " ('UCAC4 088-004294', nan, nan, nan, nan)\n",
      " ('uid664', 1188.4561767578125, 888.9208984375, 37.76267728447092, nan)\n",
      " ('UCAC4 088-004289', 277.09918212890625, 878.2625122070312, 11904.75853930497, nan)\n",
      " ('uid665', nan, nan, nan, nan) ('UCAC4 088-004282', nan, nan, nan, nan)\n",
      " ('UCAC4 088-004268', 982.7764892578125, 1002.2037963867188, 1076987.5000461778, nan)\n",
      " ('UCAC4 088-004265', nan, nan, nan, nan)\n",
      " ('UCAC4 088-004261', nan, nan, nan, nan) ('uid666', nan, nan, nan, nan)\n",
      " ('UCAC4 088-004250', nan, nan, nan, nan)\n",
      " ('uid3', 475.90179443359375, 1139.6650390625, 291848.0535701782, nan)\n",
      " ('UCAC4 088-004227', 1616.669677734375, 1147.1265869140625, 9181.54640385351, nan)\n",
      " ('uid4', nan, nan, nan, nan)\n",
      " ('UCAC4 088-004220', 1157.92236328125, 1177.200927734375, 8346.76439329801, nan)\n",
      " ('UCAC4 088-004217', 1394.8909912109375, 1194.1173095703125, 25094.64901489123, nan)\n",
      " ('UCAC4 088-004212', nan, nan, nan, nan)\n",
      " ('uid674', 1004.4415283203125, 1447.3643798828125, 229.55101919842951, nan)\n",
      " ('UCAC4 088-004157', nan, nan, nan, nan) ('uid706', nan, nan, nan, nan)\n",
      " ('UCAC4 088-004105', 1262.22998046875, 1851.1697998046875, 12650.166353492974, nan)\n",
      " ('UCAC4 088-004102', nan, nan, nan, nan)\n",
      " ('UCAC4 088-004082', nan, nan, nan, nan) ('uid724', nan, nan, nan, nan)\n",
      " ('UCAC4 089-004070', 1762.244140625, 2019.2579345703125, 9504.367929313075, nan)]\n",
      "[('UCAC4 088-004410', nan, nan, nan, nan)\n",
      " ('UCAC4 089-004309', nan, nan, nan, nan)\n",
      " ('UCAC4 088-004322', nan, nan, nan, nan)\n",
      " ('UCAC4 088-004294', nan, nan, nan, nan)\n",
      " ('UCAC4 088-004282', nan, nan, nan, nan)\n",
      " ('UCAC4 088-004268', 985.9212036132812, 1002.4168090820312, 1084346.0530086693, nan)\n",
      " ('UCAC4 088-004265', nan, nan, nan, nan)\n",
      " ('UCAC4 088-004261', nan, nan, nan, nan)\n",
      " ('UCAC4 088-004250', 893.4486694335938, 1075.418701171875, 19967.048664914182, nan)\n",
      " ('uid3', nan, nan, nan, nan) ('uid4', nan, nan, nan, nan)\n",
      " ('UCAC4 088-004217', 1398.0208740234375, 1194.043212890625, 24499.261251510965, nan)\n",
      " ('UCAC4 088-004212', nan, nan, nan, nan)\n",
      " ('UCAC4 088-004157', nan, nan, nan, nan) ('uid740', nan, nan, nan, nan)\n",
      " ('UCAC4 088-004102', nan, nan, nan, nan)\n",
      " ('UCAC4 088-004082', nan, nan, nan, nan) ('uid758', nan, nan, nan, nan)]\n",
      "[('uid759', nan, nan, nan, nan)\n",
      " ('uid760', 2016.333740234375, 156.01495361328125, 311.97896603533036, nan)\n",
      " ('UCAC4 088-004410', nan, nan, nan, nan) ('uid761', nan, nan, nan, nan)\n",
      " ('uid568', nan, nan, nan, nan) ('UCAC4 088-004322', nan, nan, nan, nan)\n",
      " ('UCAC4 088-004294', nan, nan, nan, nan) ('uid762', nan, nan, nan, nan)\n",
      " ('uid763', nan, nan, nan, nan)\n",
      " ('UCAC4 088-004282', 1265.2015380859375, 928.03369140625, 25720.53113158382, nan)\n",
      " ('uid764', nan, nan, nan, nan)\n",
      " ('UCAC4 088-004268', 982.8948364257812, 1000.0990600585938, 1200086.7067689553, nan)\n",
      " ('UCAC4 088-004265', nan, nan, nan, nan)\n",
      " ('UCAC4 088-004261', nan, nan, nan, nan) ('uid3', nan, nan, nan, nan)\n",
      " ('uid4', nan, nan, nan, nan)\n",
      " ('UCAC4 088-004217', 1394.9019775390625, 1192.08203125, 61071.00110448776, nan)\n",
      " ('uid765', 1756.66162109375, 1250.957763671875, -79039.10385432778, nan)\n",
      " ('UCAC4 088-004212', nan, nan, nan, nan) ('uid766', nan, nan, nan, nan)\n",
      " ('uid767', nan, nan, nan, nan) ('uid775', nan, nan, nan, nan)\n",
      " ('UCAC4 088-004157', nan, nan, nan, nan)\n",
      " ('UCAC4 088-004102', nan, nan, nan, nan)\n",
      " ('UCAC4 088-004082', nan, nan, nan, nan)]\n",
      "[('uid488', nan, nan, nan, nan) ('uid1267', nan, nan, nan, nan)\n",
      " ('UCAC4 089-004309', nan, nan, nan, nan) ('uid1268', nan, nan, nan, nan)\n",
      " ('UCAC4 088-004322', nan, nan, nan, nan)\n",
      " ('uid1271', 1694.4736328125, 809.8414306640625, -499792.27851723466, nan)\n",
      " ('UCAC4 088-004294', nan, nan, nan, nan) ('uid1272', nan, nan, nan, nan)\n",
      " ('UCAC4 088-004268', 982.558349609375, 1003.8005981445312, 1134142.2852175068, nan)\n",
      " ('UCAC4 088-004261', nan, nan, nan, nan) ('uid1273', nan, nan, nan, nan)\n",
      " ('uid3', nan, nan, nan, nan) ('uid4', nan, nan, nan, nan)\n",
      " ('UCAC4 088-004212', nan, nan, nan, nan)\n",
      " ('uid1274', 976.6873779296875, 1121.1644287109375, 4447.161612644719, nan)\n",
      " ('uid1275', 1787.856689453125, 1041.807861328125, 2349.406041290433, nan)\n",
      " ('uid1276', 1961.576416015625, 1275.5281982421875, 673.9951020979671, nan)\n",
      " ('UCAC4 088-004157', nan, nan, nan, nan)\n",
      " ('UCAC4 088-004102', 1036.0010986328125, 1865.4989013671875, 39816.964640005186, nan)\n",
      " ('UCAC4 088-004082', -0.1372653841972351, -1716.755615234375, nan, nan)]\n",
      "[('UCAC4 088-004410', nan, nan, nan, nan)\n",
      " ('UCAC4 088-004405', 580.6607666015625, 201.44203186035156, 9870.284253689646, nan)\n",
      " ('UCAC4 088-004398', 372.0211181640625, 253.31593322753906, 8524.54223335468, nan)\n",
      " ('uid1572', 1391.5206298828125, 348.3826904296875, 415.88475956722266, nan)\n",
      " ('UCAC4 088-004345', 1245.8167724609375, 557.7053833007812, 18154.454558213136, nan)\n",
      " ('UCAC4 089-004309', nan, nan, nan, nan)\n",
      " ('UCAC4 088-004342', 1413.76904296875, 577.070556640625, 13749.723314540855, nan)\n",
      " ('uid1573', nan, nan, nan, nan)\n",
      " ('uid1574', 1489.94140625, 585.8256225585938, -8768213.372913787, nan)\n",
      " ('UCAC4 088-004322', nan, nan, nan, nan)\n",
      " ('UCAC4 088-004294', nan, nan, nan, nan)\n",
      " ('UCAC4 088-004282', nan, nan, nan, nan)\n",
      " ('UCAC4 088-004268', 984.5546875, 1002.9287719726562, 1143745.0878087792, nan)\n",
      " ('UCAC4 088-004265', nan, nan, nan, nan)\n",
      " ('UCAC4 088-004261', nan, nan, nan, nan)\n",
      " ('UCAC4 088-004250', 892.0864868164062, 1075.75537109375, 41429.76925558492, nan)\n",
      " ('uid1575', nan, nan, nan, nan) ('uid3', nan, nan, nan, nan)\n",
      " ('uid4', nan, nan, nan, nan)\n",
      " ('UCAC4 088-004217', 1396.6829833984375, 1194.882568359375, 22570.14187288434, nan)\n",
      " ('UCAC4 088-004212', nan, nan, nan, nan)\n",
      " ('UCAC4 088-004157', nan, nan, nan, nan)\n",
      " ('UCAC4 088-004102', nan, nan, nan, nan)\n",
      " ('uid1585', 1814.3350830078125, 1974.214599609375, 329.5889840012367, nan)\n",
      " ('UCAC4 088-004082', nan, nan, nan, nan)]\n",
      "[('UCAC4 088-004410', nan, nan, nan, nan)\n",
      " ('UCAC4 089-004309', nan, nan, nan, nan)\n",
      " ('UCAC4 088-004322', nan, nan, nan, nan)\n",
      " ('UCAC4 088-004294', nan, nan, nan, nan)\n",
      " ('UCAC4 088-004282', nan, nan, nan, nan) ('uid826', nan, nan, nan, nan)\n",
      " ('UCAC4 088-004268', 983.9207763671875, 1002.6393432617188, 1057636.1522080386, nan)\n",
      " ('UCAC4 088-004265', nan, nan, nan, nan)\n",
      " ('UCAC4 088-004261', nan, nan, nan, nan)\n",
      " ('UCAC4 088-004250', 891.4865112304688, 1075.5093994140625, 22987.292069735326, nan)\n",
      " ('uid3', nan, nan, nan, nan) ('UCAC4 088-004222', nan, nan, nan, nan)\n",
      " ('UCAC4 088-004217', 1396.012939453125, 1194.2353515625, 16819.836252138724, nan)\n",
      " ('uid827', 1521.201171875, 1172.51416015625, 168824.94834709025, nan)\n",
      " ('UCAC4 088-004212', nan, nan, nan, nan) ('uid828', nan, nan, nan, nan)\n",
      " ('UCAC4 088-004157', nan, nan, nan, nan)\n",
      " ('UCAC4 088-004102', nan, nan, nan, nan)\n",
      " ('UCAC4 088-004102', nan, nan, nan, nan) ('uid840', nan, nan, nan, nan)\n",
      " ('uid841', 283.1482238769531, 1921.787353515625, 3708.920875392156, nan)\n",
      " ('uid843', nan, nan, nan, nan) ('uid844', nan, nan, nan, nan)\n",
      " ('UCAC4 088-004082', nan, nan, nan, nan)]\n",
      "[('uid488', nan, nan, nan, nan) ('uid846', nan, nan, nan, nan)\n",
      " ('UCAC4 088-004345', 1244.9393310546875, 557.9810791015625, 15829.547265012521, nan)\n",
      " ('UCAC4 089-004309', nan, nan, nan, nan)\n",
      " ('UCAC4 088-004342', 1412.863037109375, 577.3569946289062, 28521.20462090944, nan)\n",
      " ('UCAC4 088-004322', nan, nan, nan, nan)\n",
      " ('uid847', 1607.0318603515625, 729.3514404296875, 22016.63705446318, nan)\n",
      " ('UCAC4 088-004294', nan, nan, nan, nan)\n",
      " ('UCAC4 088-004289', 278.2538146972656, 879.434814453125, 20978.62417572023, nan)\n",
      " ('UCAC4 088-004282', nan, nan, nan, nan)\n",
      " ('UCAC4 088-004268', 983.5763549804688, 1003.033447265625, 1107864.9240278457, nan)\n",
      " ('UCAC4 088-004265', nan, nan, nan, nan)\n",
      " ('UCAC4 088-004261', nan, nan, nan, nan)\n",
      " ('UCAC4 088-004250', 891.0809936523438, 1075.8658447265625, 27375.210624854873, nan)\n",
      " ('uid3', nan, nan, nan, nan) ('uid4', nan, nan, nan, nan)\n",
      " ('UCAC4 088-004217', 1395.4742431640625, 1194.552978515625, 21899.72546138957, nan)\n",
      " ('UCAC4 088-004212', nan, nan, nan, nan)\n",
      " ('uid848', 525.392333984375, 1205.55517578125, -151.09377835393002, nan)\n",
      " ('UCAC4 088-004157', nan, nan, nan, nan)\n",
      " ('UCAC4 088-004102', nan, nan, nan, nan)\n",
      " ('UCAC4 088-004082', nan, nan, nan, nan)]\n",
      "[ ('UCAC4 089-004400', 1843.098876953125, 40.592166900634766, 18224.537702930338, nan)\n",
      " ('UCAC4 088-004410', nan, nan, nan, nan)\n",
      " ('UCAC4 088-004405', 580.59521484375, 200.7866668701172, 42864.52417951958, nan)\n",
      " ('UCAC4 088-004345', 1245.8050537109375, 557.0864868164062, 17225.648508533915, nan)\n",
      " ('UCAC4 089-004309', nan, nan, nan, nan)\n",
      " ('UCAC4 088-004342', 1413.5821533203125, 576.3138427734375, 12757.299454684968, nan)\n",
      " ('uid569', nan, nan, nan, nan)\n",
      " ('uid861', 1784.12255859375, 735.8224487304688, 581.9724587138909, nan)\n",
      " ('UCAC4 088-004294', nan, nan, nan, nan)\n",
      " ('UCAC4 088-004282', nan, nan, nan, nan)\n",
      " ('UCAC4 088-004268', nan, nan, nan, nan)\n",
      " ('UCAC4 088-004265', nan, nan, nan, nan)\n",
      " ('UCAC4 088-004261', nan, nan, nan, nan)\n",
      " ('UCAC4 088-004250', 892.0120239257812, 1075.111328125, 20343.998904324184, nan)\n",
      " ('uid3', nan, nan, nan, nan)\n",
      " ('uid4', -37351.71875, -36947.07421875, nan, nan)\n",
      " ('uid862', nan, nan, nan, nan)\n",
      " ('UCAC4 088-004217', 1396.2158203125, 1193.6531982421875, 33509.332604293035, nan)\n",
      " ('UCAC4 088-004212', nan, nan, nan, nan) ('uid875', nan, nan, nan, nan)\n",
      " ('UCAC4 088-004157', 31.27466583251953, -10001.498046875, nan, nan)\n",
      " ('UCAC4 088-004102', nan, nan, nan, nan)\n",
      " ('uid906', 1792.7991943359375, 1897.5552978515625, 261954.337986092, nan)\n",
      " ('UCAC4 088-004082', nan, nan, nan, nan)]\n",
      "[('uid488', nan, nan, nan, nan) ('UCAC4 089-004309', nan, nan, nan, nan)\n",
      " ('uid913', 1346.1011962890625, 578.2034301757812, 5073.929117971747, nan)\n",
      " ('UCAC4 088-004322', nan, nan, nan, nan)\n",
      " ('UCAC4 088-004294', nan, nan, nan, nan) ('uid914', nan, nan, nan, nan)\n",
      " ('UCAC4 088-004268', 985.6356201171875, 1001.6925048828125, 1296130.5339363953, nan)\n",
      " ('uid1335', nan, nan, nan, nan) ('uid3', nan, nan, nan, nan)\n",
      " ('uid4', nan, nan, nan, nan)\n",
      " ('UCAC4 088-004212', 1067.0123291015625, 1210.3236083984375, 58040081.19540985, nan)\n",
      " ('UCAC4 088-004157', nan, nan, nan, nan) ('uid986', nan, nan, nan, nan)\n",
      " ('UCAC4 088-004082', nan, nan, nan, nan)]\n",
      "[('uid488', nan, nan, nan, nan) ('uid568', nan, nan, nan, nan)\n",
      " ('uid569', nan, nan, nan, nan) ('UCAC4 088-004294', nan, nan, nan, nan)\n",
      " ('UCAC4 088-004282', 1260.276611328125, 932.577880859375, 17491.37890329432, nan)\n",
      " ('UCAC4 088-004268', 977.8416137695312, 1004.5767211914062, 964915.4153672474, nan)\n",
      " ('UCAC4 088-004265', 1492.949462890625, 1013.738037109375, 18527.51853320803, nan)\n",
      " ('UCAC4 088-004261', 1257.292236328125, 1026.5692138671875, 40512.60539216086, nan)\n",
      " ('uid3', nan, nan, nan, nan) ('UCAC4 088-004222', nan, nan, nan, nan)\n",
      " ('UCAC4 088-004217', 1390.052001953125, 1196.496337890625, 34570.96035304186, nan)\n",
      " ('UCAC4 088-004212', nan, nan, nan, nan)\n",
      " ('UCAC4 088-004157', nan, nan, nan, nan)\n",
      " ('UCAC4 088-004102', 1031.6214599609375, 1865.885498046875, 34367.284493703555, nan)\n",
      " ('UCAC4 088-004082', nan, nan, nan, nan)]\n",
      "[('UCAC4 088-004410', nan, nan, nan, nan)\n",
      " ('UCAC4 088-004405', 580.2994384765625, 200.87136840820312, 14007.638195501733, nan)\n",
      " ('UCAC4 088-004345', 1245.29296875, 556.8392333984375, 19463.482532203696, nan)\n",
      " ('UCAC4 089-004309', nan, nan, nan, nan)\n",
      " ('UCAC4 088-004342', 1413.2548828125, 576.2646484375, 16322.361109121608, nan)\n",
      " ('UCAC4 088-004322', nan, nan, nan, nan)\n",
      " ('UCAC4 088-004294', 476.4560546875, 844.7557373046875, nan, nan)\n",
      " ('UCAC4 088-004282', nan, nan, nan, nan)\n",
      " ('UCAC4 088-004268', 984.0111083984375, 1002.1107788085938, 1074811.6143094825, nan)\n",
      " ('UCAC4 088-004265', nan, nan, nan, nan)\n",
      " ('UCAC4 088-004261', nan, nan, nan, nan)\n",
      " ('UCAC4 088-004250', nan, nan, nan, nan)\n",
      " ('uid3', 477.2389831542969, 1139.49609375, 278902.0864110253, nan)\n",
      " ('uid4', nan, nan, nan, nan)\n",
      " ('UCAC4 088-004217', 1396.046630859375, 1193.77587890625, 27735.283785259704, nan)\n",
      " ('UCAC4 088-004212', nan, nan, nan, nan) ('uid1089', nan, nan, nan, nan)\n",
      " ('UCAC4 088-004157', nan, nan, nan, nan)\n",
      " ('UCAC4 088-004102', nan, nan, nan, nan)\n",
      " ('UCAC4 088-004082', nan, nan, nan, nan)]\n",
      "[('UCAC4 088-004410', nan, nan, nan, nan)\n",
      " ('UCAC4 088-004410', nan, nan, nan, nan)\n",
      " ('UCAC4 089-004309', nan, nan, nan, nan)\n",
      " ('UCAC4 088-004322', nan, nan, nan, nan)\n",
      " ('UCAC4 088-004294', nan, nan, nan, nan)\n",
      " ('UCAC4 088-004268', nan, nan, nan, nan) ('uid1099', nan, nan, nan, nan)\n",
      " ('uid3', nan, nan, nan, nan) ('uid4', nan, nan, nan, nan)\n",
      " ('UCAC4 088-004157', 850.7160034179688, 1540.58935546875, 31870.98012944897, nan)\n",
      " ('UCAC4 088-004082', nan, nan, nan, nan)]\n",
      "[ ('uid1135', 1917.8470458984375, 120.87129974365234, 1702.7489911768482, nan)\n",
      " ('uid488', nan, nan, nan, nan) ('uid1136', nan, nan, nan, nan)\n",
      " ('UCAC4 089-004309', nan, nan, nan, nan)\n",
      " ('UCAC4 088-004322', nan, nan, nan, nan) ('uid1137', nan, nan, nan, nan)\n",
      " ('UCAC4 088-004294', nan, nan, nan, nan)\n",
      " ('UCAC4 088-004268', 985.1646728515625, 1002.5574951171875, 1316325.9928277314, nan)\n",
      " ('UCAC4 088-004261', nan, nan, nan, nan) ('uid3', nan, nan, nan, nan)\n",
      " ('uid4', nan, nan, nan, nan) ('UCAC4 088-004212', nan, nan, nan, nan)\n",
      " ('uid1154', nan, nan, nan, nan) ('UCAC4 088-004157', nan, nan, nan, nan)\n",
      " ('UCAC4 088-004082', nan, nan, nan, nan)]\n",
      "[('UCAC4 088-004410', nan, nan, nan, nan) ('uid1193', nan, nan, nan, nan)\n",
      " ('uid1194', nan, nan, nan, nan)\n",
      " ('UCAC4 088-004345', 1245.6597900390625, 558.434814453125, 16291.413374994972, nan)\n",
      " ('UCAC4 089-004309', nan, nan, nan, nan)\n",
      " ('UCAC4 088-004322', nan, nan, nan, nan)\n",
      " ('UCAC4 088-004294', nan, nan, nan, nan)\n",
      " ('UCAC4 088-004282', nan, nan, nan, nan) ('uid1195', nan, nan, nan, nan)\n",
      " ('UCAC4 088-004268', 984.5189819335938, 1003.4202880859375, 1041459.3012607642, nan)\n",
      " ('UCAC4 088-004265', nan, nan, nan, nan)\n",
      " ('UCAC4 088-004261', nan, nan, nan, nan)\n",
      " ('UCAC4 088-004250', nan, nan, nan, nan)\n",
      " ('uid3', 477.6163635253906, 1140.816162109375, 302831.5298138469, nan)\n",
      " ('uid1196', nan, nan, nan, nan)\n",
      " ('uid1197', 1885.5650634765625, 1074.5498046875, 2970.655847613683, nan)\n",
      " ('uid4', nan, nan, nan, nan)\n",
      " ('UCAC4 088-004220', 1159.457763671875, 1178.2701416015625, 10103.756023924898, nan)\n",
      " ('UCAC4 088-004217', 1396.5694580078125, 1195.3331298828125, 19421.296243293767, nan)\n",
      " ('UCAC4 088-004212', nan, nan, nan, nan)\n",
      " ('UCAC4 088-004157', nan, nan, nan, nan)\n",
      " ('UCAC4 088-004105', 1263.7755126953125, 1851.5738525390625, 10810.607476745063, nan)\n",
      " ('UCAC4 088-004102', nan, nan, nan, nan)\n",
      " ('UCAC4 088-004082', nan, nan, nan, nan)]\n",
      "[ ('UCAC4 089-004400', 1843.6636962890625, 42.78011703491211, 41798.95290217341, nan)\n",
      " ('uid1212', 1627.7301025390625, 54.589012145996094, 118.23784076049495, nan)\n",
      " ('uid488', nan, nan, nan, nan)\n",
      " ('uid1213', 371.64886474609375, 253.47645568847656, 11946.053669111137, nan)\n",
      " ('uid1214', 1072.6973876953125, 286.4880065917969, 677.7451108244943, nan)\n",
      " ('UCAC4 088-004345', 1246.18603515625, 559.09130859375, 13863.628633825749, nan)\n",
      " ('UCAC4 089-004309', nan, nan, nan, nan) ('uid1215', nan, nan, nan, nan)\n",
      " ('UCAC4 088-004322', nan, nan, nan, nan)\n",
      " ('UCAC4 088-004294', nan, nan, nan, nan)\n",
      " ('UCAC4 088-004282', nan, nan, nan, nan)\n",
      " ('UCAC4 088-004268', 984.7628173828125, 1004.1310424804688, 1234526.924671212, nan)\n",
      " ('UCAC4 088-004265', nan, nan, nan, nan)\n",
      " ('UCAC4 088-004261', nan, nan, nan, nan)\n",
      " ('UCAC4 088-004250', 892.3348388671875, 1077.0126953125, 38818.883250390296, nan)\n",
      " ('uid1216', 1957.221435546875, 1100.126220703125, 900.3101173569031, nan)\n",
      " ('uid1217', 463.31951904296875, 1190.4256591796875, -98752.38254633755, nan)\n",
      " ('uid3', 477.787353515625, 1141.48046875, 411608.65568026045, nan)\n",
      " ('uid4', nan, nan, nan, nan) ('UCAC4 088-004217', nan, nan, nan, nan)\n",
      " ('UCAC4 088-004212', nan, nan, nan, nan)\n",
      " ('uid1218', 1360.46728515625, 1308.7056884765625, 332.1902071460085, nan)\n",
      " ('UCAC4 088-004157', nan, nan, nan, nan)\n",
      " ('uid1230', 1971.22412109375, 1741.379150390625, 24.953289693701006, nan)\n",
      " ('UCAC4 088-004102', nan, nan, nan, nan)\n",
      " ('UCAC4 088-004082', nan, nan, nan, nan)]\n",
      "[('uid488', nan, nan, nan, nan) ('uid568', nan, nan, nan, nan)\n",
      " ('uid568', nan, nan, nan, nan) ('UCAC4 088-004322', nan, nan, nan, nan)\n",
      " ('UCAC4 088-004294', -2391.80078125, 0.0933566689491272, nan, nan)\n",
      " ('UCAC4 088-004268', 984.73388671875, 1002.7294311523438, 1516419.5141738576, nan)\n",
      " ('UCAC4 088-004265', nan, nan, nan, nan)\n",
      " ('UCAC4 088-004261', nan, nan, nan, nan) ('uid3', nan, nan, nan, nan)\n",
      " ('UCAC4 088-004222', nan, nan, nan, nan)\n",
      " ('UCAC4 088-004212', nan, nan, nan, nan)\n",
      " ('UCAC4 088-004157', nan, nan, nan, nan)\n",
      " ('UCAC4 088-004102', nan, nan, nan, nan)\n",
      " ('UCAC4 088-004082', -13154.5146484375, -42048.42578125, nan, nan)\n",
      " ('uid1249', nan, nan, nan, nan)]\n",
      "[ ('UCAC4 088-004434', 735.388427734375, 24.275197982788086, 16547.95588958568, nan)\n",
      " ('UCAC4 089-004400', 1842.13427734375, 41.70738983154297, 14589.89615978194, nan)\n",
      " ('uid488', nan, nan, nan, nan)\n",
      " ('uid1251', 650.5714721679688, 300.91925048828125, 384.12438219426286, nan)\n",
      " ('uid1252', nan, nan, nan, nan)\n",
      " ('UCAC4 088-004345', 1244.637451171875, 558.562744140625, 18107.17979722178, nan)\n",
      " ('UCAC4 088-004345', 1244.637451171875, 558.562744140625, 18106.700127113923, nan)\n",
      " ('UCAC4 089-004309', nan, nan, nan, nan)\n",
      " ('UCAC4 088-004342', 1412.675048828125, 577.9971313476562, 14049.813786820427, nan)\n",
      " ('UCAC4 088-004322', nan, nan, nan, nan)\n",
      " ('UCAC4 088-004295', 1636.895751953125, 833.015625, 32179.81033514534, nan)\n",
      " ('UCAC4 088-004294', nan, nan, nan, nan)\n",
      " ('UCAC4 088-004282', nan, nan, nan, nan)\n",
      " ('UCAC4 088-004268', 983.3824462890625, 1003.4432983398438, 1032036.4915498336, nan)\n",
      " ('UCAC4 088-004265', nan, nan, nan, nan)\n",
      " ('UCAC4 088-004261', nan, nan, nan, nan)\n",
      " ('UCAC4 088-004250', 890.9833984375, 1076.342529296875, 21804.411423635185, nan)\n",
      " ('uid3', 476.62091064453125, 1140.774658203125, 257578.75101639295, nan)\n",
      " ('uid4', nan, nan, nan, nan)\n",
      " ('UCAC4 088-004220', 1158.3328857421875, 1178.3665771484375, 18016.374892855325, nan)\n",
      " ('UCAC4 088-004217', 1395.366455078125, 1195.1783447265625, 21056.75246780861, nan)\n",
      " ('UCAC4 088-004212', nan, nan, nan, nan)\n",
      " ('UCAC4 088-004157', nan, nan, nan, nan)\n",
      " ('UCAC4 088-004105', 1262.7303466796875, 1851.61279296875, 12154.753936221707, nan)\n",
      " ('UCAC4 088-004102', nan, nan, nan, nan) ('uid1264', nan, nan, nan, nan)\n",
      " ('UCAC4 088-004082', nan, nan, nan, nan)]\n",
      "[('uid488', nan, nan, nan, nan) ('uid794', nan, nan, nan, nan)\n",
      " ('UCAC4 089-004309', nan, nan, nan, nan) ('uid795', nan, nan, nan, nan)\n",
      " ('UCAC4 088-004322', nan, nan, nan, nan) ('uid796', nan, nan, nan, nan)\n",
      " ('UCAC4 088-004294', nan, nan, nan, nan)\n",
      " ('UCAC4 088-004268', 983.1495971679688, 1001.6836547851562, 1620151.6218515045, nan)\n",
      " ('UCAC4 088-004261', nan, nan, nan, nan)\n",
      " ('uid797', 1817.9129638671875, 1033.681396484375, 425.6888171083767, nan)\n",
      " ('uid798', 651.8287963867188, 1132.3521728515625, -22006.477357197986, nan)\n",
      " ('uid3', nan, nan, nan, nan) ('uid4', nan, nan, nan, nan)\n",
      " ('UCAC4 088-004212', nan, nan, nan, nan)\n",
      " ('UCAC4 088-004157', nan, nan, nan, nan)\n",
      " ('uid819', 2074.18212890625, 1931.0455322265625, 7595.470527717433, nan)\n",
      " ('UCAC4 088-004082', nan, nan, nan, nan)]\n",
      "[ ('UCAC4 088-004434', 735.5205078125, 22.527362823486328, 13951.669406342604, nan)\n",
      " ('uid1300', 2866.750732421875, 111.30525970458984, -167653.41663620216, nan)\n",
      " ('UCAC4 089-004400', 1842.7989501953125, 40.30697250366211, 19050.52941946194, nan)\n",
      " ('UCAC4 089-004376', 1773.876708984375, 165.88250732421875, 24510.859427591527, nan)\n",
      " ('uid488', nan, nan, nan, nan)\n",
      " ('UCAC4 088-004405', 579.92236328125, 200.546875, 15474.411313240345, nan)\n",
      " ('UCAC4 088-004398', 371.2048034667969, 252.455810546875, 13475.141724516507, nan)\n",
      " ('uid1301', nan, nan, nan, nan)\n",
      " ('UCAC4 088-004359', 1672.77099609375, 461.7913513183594, 14792.457753896224, nan)\n",
      " ('UCAC4 088-004345', 1244.9906005859375, 556.4600219726562, 18659.416777376817, nan)\n",
      " ('uid1302', nan, nan, nan, nan) ('UCAC4 089-004309', nan, nan, nan, nan)\n",
      " ('UCAC4 088-004342', 1412.98828125, 575.9170532226562, 17249.399496724716, nan)\n",
      " ('UCAC4 088-004322', nan, nan, nan, nan)\n",
      " ('UCAC4 088-004295', 1637.356201171875, 831.4987182617188, 11876.454771886409, nan)\n",
      " ('UCAC4 088-004294', nan, nan, nan, nan)\n",
      " ('UCAC4 088-004289', 278.2388610839844, 878.0669555664062, 11263.263044515701, nan)\n",
      " ('UCAC4 088-004282', nan, nan, nan, nan)\n",
      " ('UCAC4 088-004268', 983.7543334960938, 1001.9335327148438, 1253127.190241876, nan)\n",
      " ('UCAC4 088-004265', nan, nan, nan, nan)\n",
      " ('UCAC4 088-004261', nan, nan, nan, nan)\n",
      " ('UCAC4 088-004250', 891.2730102539062, 1074.845703125, 19627.98814792181, nan)\n",
      " ('uid3', nan, nan, nan, nan)\n",
      " ('UCAC4 088-004227', 1617.5311279296875, 1146.5345458984375, 10805.411031799633, nan)\n",
      " ('uid4', nan, nan, nan, nan)\n",
      " ('UCAC4 088-004220', 1158.680908203125, 1176.7659912109375, 18176.064313003102, nan)\n",
      " ('UCAC4 088-004217', nan, nan, nan, nan)\n",
      " ('UCAC4 088-004212', nan, nan, nan, nan)\n",
      " ('UCAC4 088-004157', nan, nan, nan, nan)\n",
      " ('uid1317', 405.49853515625, 1636.5228271484375, 288.0693641200074, nan)\n",
      " ('uid1320', 539.1079711914062, 1778.454833984375, 15261.93103268929, nan)\n",
      " ('uid1323', nan, nan, nan, nan)\n",
      " ('uid1324', -89.66673278808594, 2519.869140625, 4527.696086950569, nan)\n",
      " ('UCAC4 088-004105', 1262.9412841796875, 1850.5543212890625, 36397.15519553873, nan)\n",
      " ('UCAC4 088-004102', nan, nan, nan, nan)\n",
      " ('uid1329', 879.1582641601562, 1896.0386962890625, 0.0833902448047247, nan)\n",
      " ('uid1330', nan, nan, nan, nan) ('UCAC4 088-004082', nan, nan, nan, nan)]\n",
      "[('UCAC4 088-004410', nan, nan, nan, nan)\n",
      " ('uid1334', 763.369140625, 392.9139709472656, 5.67075955908341, nan)\n",
      " ('uid568', nan, nan, nan, nan) ('uid569', nan, nan, nan, nan)\n",
      " ('UCAC4 088-004294', nan, nan, nan, nan)\n",
      " ('UCAC4 088-004268', 982.3589477539062, 1003.6277465820312, 1298003.2409875868, nan)\n",
      " ('uid1335', nan, nan, nan, nan) ('UCAC4 088-004261', nan, nan, nan, nan)\n",
      " ('uid3', nan, nan, nan, nan) ('UCAC4 088-004222', nan, nan, nan, nan)\n",
      " ('uid4', nan, nan, nan, nan) ('UCAC4 088-004212', nan, nan, nan, nan)\n",
      " ('UCAC4 088-004157', nan, nan, nan, nan)\n",
      " ('UCAC4 088-004082', nan, nan, nan, nan)]\n",
      "[('uid488', nan, nan, nan, nan) ('UCAC4 089-004309', nan, nan, nan, nan)\n",
      " ('UCAC4 088-004322', nan, nan, nan, nan)\n",
      " ('UCAC4 088-004294', nan, nan, nan, nan)\n",
      " ('UCAC4 088-004282', nan, nan, nan, nan)\n",
      " ('uid1374', 1606.7503662109375, 967.2256469726562, 837.5603919469924, nan)\n",
      " ('UCAC4 088-004268', 982.5038452148438, 1002.8287963867188, 1069606.3885736922, nan)\n",
      " ('UCAC4 088-004265', 1497.609375, 1011.6972045898438, 29701.17255811773, nan)\n",
      " ('UCAC4 088-004261', nan, nan, nan, nan)\n",
      " ('UCAC4 088-004250', nan, nan, nan, nan) ('uid3', nan, nan, nan, nan)\n",
      " ('uid4', nan, nan, nan, nan) ('UCAC4 088-004212', nan, nan, nan, nan)\n",
      " ('UCAC4 088-004157', nan, nan, nan, nan)\n",
      " ('UCAC4 088-004102', 1036.0914306640625, 1864.3209228515625, 26229.6433160832, nan)\n",
      " ('UCAC4 088-004082', nan, nan, nan, nan)]\n",
      "[('UCAC4 088-004410', nan, nan, nan, nan)\n",
      " ('UCAC4 089-004309', nan, nan, nan, nan)\n",
      " ('UCAC4 088-004322', nan, nan, nan, nan)\n",
      " ('UCAC4 088-004294', nan, nan, nan, nan)\n",
      " ('UCAC4 088-004282', nan, nan, nan, nan) ('uid1408', nan, nan, nan, nan)\n",
      " ('UCAC4 088-004268', 986.2618408203125, 1003.980224609375, 906226.7527484731, nan)\n",
      " ('UCAC4 088-004265', 1501.2532958984375, 1013.0314331054688, 33338.92542328098, nan)\n",
      " ('UCAC4 088-004261', nan, nan, nan, nan)\n",
      " ('uid3', 479.5467529296875, 1141.622314453125, 265085.7960419935, nan)\n",
      " ('uid1409', nan, nan, nan, nan) ('uid4', nan, nan, nan, nan)\n",
      " ('UCAC4 088-004212', nan, nan, nan, nan)\n",
      " ('UCAC4 088-004157', nan, nan, nan, nan)\n",
      " ('UCAC4 088-004102', nan, nan, nan, nan)\n",
      " ('UCAC4 088-004082', nan, nan, nan, nan) ('uid1443', nan, nan, nan, nan)]\n",
      "[('uid488', nan, nan, nan, nan) ('uid1445', nan, nan, nan, nan)\n",
      " ('UCAC4 089-004309', nan, nan, nan, nan)\n",
      " ('UCAC4 088-004322', nan, nan, nan, nan)\n",
      " ('UCAC4 088-004294', nan, nan, nan, nan)\n",
      " ('UCAC4 088-004282', nan, nan, nan, nan)\n",
      " ('UCAC4 088-004268', 983.2091064453125, 1003.4029541015625, 1228554.3786178527, nan)\n",
      " ('UCAC4 088-004265', nan, nan, nan, nan)\n",
      " ('UCAC4 088-004261', nan, nan, nan, nan) ('uid3', nan, nan, nan, nan)\n",
      " ('uid4', nan, nan, nan, nan)\n",
      " ('UCAC4 088-004217', 1395.3994140625, 1195.2269287109375, 20546.799660783163, nan)\n",
      " ('UCAC4 088-004212', nan, nan, nan, nan)\n",
      " ('uid1446', 872.7080078125, 1236.55224609375, 368.72627361523155, nan)\n",
      " ('UCAC4 088-004157', nan, nan, nan, nan)\n",
      " ('UCAC4 088-004102', nan, nan, nan, nan) ('uid1458', nan, nan, nan, nan)\n",
      " ('UCAC4 088-004082', nan, nan, nan, nan)]\n",
      "[('uid488', nan, nan, nan, nan) ('UCAC4 089-004309', nan, nan, nan, nan)\n",
      " ('uid1463', 716.3596801757812, 621.5711059570312, 53.97315560236201, nan)\n",
      " ('UCAC4 088-004322', nan, nan, nan, nan)\n",
      " ('UCAC4 088-004294', nan, nan, nan, nan) ('uid1464', nan, nan, nan, nan)\n",
      " ('UCAC4 088-004282', 1266.823974609375, 931.1040649414062, 25072.191791515736, nan)\n",
      " ('UCAC4 088-004268', 984.3049926757812, 1003.2684326171875, 1178735.2553738486, nan)\n",
      " ('UCAC4 088-004265', 1499.34716796875, 1012.3304443359375, 24088.946387152555, nan)\n",
      " ('UCAC4 088-004261', nan, nan, nan, nan) ('uid3', nan, nan, nan, nan)\n",
      " ('UCAC4 088-004222', nan, nan, nan, nan) ('uid1465', nan, nan, nan, nan)\n",
      " ('UCAC4 088-004212', nan, nan, nan, nan)\n",
      " ('UCAC4 088-004157', nan, nan, nan, nan) ('uid1472', nan, nan, nan, nan)\n",
      " ('UCAC4 088-004102', nan, nan, nan, nan)\n",
      " ('UCAC4 088-004082', nan, nan, nan, nan)]\n",
      "[('uid1477', 1842.93896484375, 36.59185028076172, 2148442602907.669, nan)\n",
      " ('UCAC4 088-004410', nan, nan, nan, nan)\n",
      " ('uid1478', 1792.5955810546875, 466.1374206542969, 7836.220149300619, nan)\n",
      " ('UCAC4 088-004345', 1247.2677001953125, 558.8323974609375, 20639.20767108974, nan)\n",
      " ('UCAC4 089-004309', nan, nan, nan, nan) ('uid1479', nan, nan, nan, nan)\n",
      " ('UCAC4 088-004322', nan, nan, nan, nan) ('uid1480', nan, nan, nan, nan)\n",
      " ('UCAC4 088-004294', nan, nan, nan, nan)\n",
      " ('UCAC4 088-004282', nan, nan, nan, nan)\n",
      " ('UCAC4 088-004268', 985.8186645507812, 1003.8800048828125, 1602769.204683271, nan)\n",
      " ('UCAC4 088-004265', nan, nan, nan, nan)\n",
      " ('UCAC4 088-004261', nan, nan, nan, nan)\n",
      " ('UCAC4 088-004250', nan, nan, nan, nan) ('uid3', nan, nan, nan, nan)\n",
      " ('uid4', nan, nan, nan, nan)\n",
      " ('UCAC4 088-004217', 1397.9827880859375, 1195.8211669921875, 92297.69469467315, nan)\n",
      " ('UCAC4 088-004212', nan, nan, nan, nan) ('uid1488', nan, nan, nan, nan)\n",
      " ('UCAC4 088-004157', nan, nan, nan, nan)\n",
      " ('uid1497', 855.9998779296875, 1767.0, nan, nan)\n",
      " ('UCAC4 088-004102', 1039.1693115234375, 1865.22705078125, 52909.70325494506, nan)\n",
      " ('UCAC4 088-004082', nan, nan, nan, nan)]\n",
      "[('uid488', nan, nan, nan, nan) ('UCAC4 089-004309', nan, nan, nan, nan)\n",
      " ('UCAC4 088-004322', nan, nan, nan, nan)\n",
      " ('UCAC4 088-004294', nan, nan, nan, nan)\n",
      " ('UCAC4 088-004282', nan, nan, nan, nan)\n",
      " ('UCAC4 088-004268', 982.1942138671875, 1003.2356567382812, 1238110.5469210811, nan)\n",
      " ('UCAC4 088-004265', nan, nan, nan, nan)\n",
      " ('UCAC4 088-004261', nan, nan, nan, nan)\n",
      " ('UCAC4 088-004250', 889.7694091796875, 1076.1820068359375, 21823.40567568568, nan)\n",
      " ('uid3', nan, nan, nan, nan) ('uid4', nan, nan, nan, nan)\n",
      " ('UCAC4 088-004217', 1394.388671875, 1195.1427001953125, 27978.303184430646, nan)\n",
      " ('UCAC4 088-004212', nan, nan, nan, nan)\n",
      " ('UCAC4 088-004157', nan, nan, nan, nan)\n",
      " ('UCAC4 088-004102', nan, nan, nan, nan)\n",
      " ('UCAC4 088-004082', nan, nan, nan, nan)]\n",
      "[ ('UCAC4 088-004434', 736.9750366210938, 23.943572998046875, 26784.187263284348, nan)\n",
      " ('uid488', nan, nan, nan, nan)\n",
      " ('UCAC4 088-004405', 581.2019653320312, 202.32984924316406, 9774.14633795903, nan)\n",
      " ('uid489', 372.5605163574219, 254.16677856445312, 14891.657150426332, nan)\n",
      " ('uid490', 1911.43212890625, 353.43206787109375, 116.32341563081975, nan)\n",
      " ('uid491', 1195.97802734375, 493.628173828125, 51502.559296989755, nan)\n",
      " ('UCAC4 088-004345', 1246.451904296875, 558.3154907226562, 17011.281041411905, nan)\n",
      " ('UCAC4 089-004309', nan, nan, nan, nan)\n",
      " ('UCAC4 088-004342', 1414.17626953125, 577.6980590820312, 15997.00053880463, nan)\n",
      " ('uid492', nan, nan, nan, nan) ('uid493', nan, nan, nan, nan)\n",
      " ('UCAC4 088-004322', nan, nan, nan, nan)\n",
      " ('UCAC4 088-004294', nan, nan, nan, nan)\n",
      " ('UCAC4 088-004282', nan, nan, nan, nan)\n",
      " ('uid494', 14.826262474060059, 1041.51025390625, 8662.22485962618, nan)\n",
      " ('UCAC4 088-004268', 985.1301879882812, 1003.5198974609375, 1027771.3351687137, nan)\n",
      " ('uid495', 1620.04345703125, 938.3270263671875, 38780.29447867621, nan)\n",
      " ('UCAC4 088-004265', nan, nan, nan, nan)\n",
      " ('UCAC4 088-004261', nan, nan, nan, nan)\n",
      " ('uid496', 507.09423828125, 1034.6666259765625, 373.57570142560576, nan)\n",
      " ('UCAC4 088-004250', 892.7713012695312, 1076.4959716796875, 26776.77810564249, nan)\n",
      " ('uid3', nan, nan, nan, nan) ('uid4', nan, nan, nan, nan)\n",
      " ('UCAC4 088-004217', 1396.951904296875, 1194.8536376953125, 25464.898554021915, nan)\n",
      " ('UCAC4 088-004212', nan, nan, nan, nan)\n",
      " ('UCAC4 088-004157', nan, nan, nan, nan) ('uid543', nan, nan, nan, nan)\n",
      " ('UCAC4 088-004105', 1264.1571044921875, 1851.7930908203125, 20038.67435793046, nan)\n",
      " ('UCAC4 088-004102', nan, nan, nan, nan)\n",
      " ('UCAC4 088-004082', nan, nan, nan, nan)]\n"
     ]
    }
   ],
   "source": [
    "for i in res.frames.keys():\n",
    "    print res.frames[i].data"
   ]
  },
  {
   "cell_type": "code",
   "execution_count": 13,
   "metadata": {
    "collapsed": false
   },
   "outputs": [
    {
     "data": {
      "text/plain": [
       "(9.5052811190232305, 0.10094993164253768)"
      ]
     },
     "execution_count": 13,
     "metadata": {},
     "output_type": "execute_result"
    }
   ],
   "source": [
    "res.diferential_magnitude('UCAC4 088-004268')"
   ]
  },
  {
   "cell_type": "code",
   "execution_count": 7,
   "metadata": {
    "collapsed": false
   },
   "outputs": [
    {
     "data": {
      "text/plain": [
       "\"\\nids = obj._cat['id']\\nmag_c = obj._cat['mag']\\n\\nmag_p = np.zeros_like(mag_c)\\n\\nfor i in range(len(ids)):\\n    mag_p[i] = res.diferential_magnitude(ids[i], algorithm='median')[0]\\n\""
      ]
     },
     "execution_count": 7,
     "metadata": {},
     "output_type": "execute_result"
    }
   ],
   "source": [
    "'''\n",
    "ids = obj._cat['id']\n",
    "mag_c = obj._cat['mag']\n",
    "\n",
    "mag_p = np.zeros_like(mag_c)\n",
    "\n",
    "for i in range(len(ids)):\n",
    "    mag_p[i] = res.diferential_magnitude(ids[i], algorithm='median')[0]\n",
    "'''"
   ]
  },
  {
   "cell_type": "code",
   "execution_count": 8,
   "metadata": {
    "collapsed": false
   },
   "outputs": [
    {
     "data": {
      "text/plain": [
       "\"plt.plot(mag_c, mag_p, 'ko')\\nplt.xlabel('UCAC4 magnitude')\\nplt.ylabel('Pirpy PSF magnitude')\\nplt.show()\""
      ]
     },
     "execution_count": 8,
     "metadata": {},
     "output_type": "execute_result"
    }
   ],
   "source": [
    "'''plt.plot(mag_c, mag_p, 'ko')\n",
    "plt.xlabel('UCAC4 magnitude')\n",
    "plt.ylabel('Pirpy PSF magnitude')\n",
    "plt.show()'''"
   ]
  },
  {
   "cell_type": "code",
   "execution_count": 9,
   "metadata": {
    "collapsed": false
   },
   "outputs": [
    {
     "data": {
      "text/plain": [
       "\"plt.plot(mag_c, mag_p-mag_c, 'ko')\\nplt.xlabel('UCAC4 magnitude')\\nplt.ylabel('PirpyPSF-UCAC4')\\nplt.show()\""
      ]
     },
     "execution_count": 9,
     "metadata": {},
     "output_type": "execute_result"
    }
   ],
   "source": [
    "'''plt.plot(mag_c, mag_p-mag_c, 'ko')\n",
    "plt.xlabel('UCAC4 magnitude')\n",
    "plt.ylabel('PirpyPSF-UCAC4')\n",
    "plt.show()'''"
   ]
  }
 ],
 "metadata": {
  "kernelspec": {
   "display_name": "Python 2",
   "language": "python",
   "name": "python2"
  },
  "language_info": {
   "codemirror_mode": {
    "name": "ipython",
    "version": 2
   },
   "file_extension": ".py",
   "mimetype": "text/x-python",
   "name": "python",
   "nbconvert_exporter": "python",
   "pygments_lexer": "ipython2",
   "version": "2.7.10"
  }
 },
 "nbformat": 4,
 "nbformat_minor": 0
}
